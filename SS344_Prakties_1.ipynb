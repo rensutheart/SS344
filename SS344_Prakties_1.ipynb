{
  "nbformat": 4,
  "nbformat_minor": 0,
  "metadata": {
    "colab": {
      "name": "SS344 Prakties 1",
      "version": "0.3.2",
      "provenance": [],
      "collapsed_sections": []
    },
    "kernelspec": {
      "name": "python3",
      "display_name": "Python 3"
    }
  },
  "cells": [
    {
      "metadata": {
        "id": "WKiyw9AfejKL",
        "colab_type": "text"
      },
      "cell_type": "markdown",
      "source": [
        "#Prakties 1\n",
        "Histogramme is 'n nuttige nie-parametriese metode om 'n waarskynlikheidsdigtheidsfunksie af te skat. Gegee 'n stel $N$ data punte $\\mathbf{x} = \\{x_1, x_2, \\ldots , x_N\\}$, word die bereik van $\\mathbf{x}$ (d.w.s. die interval tussen die minimum en maksimum waarde in $\\mathbf{x}$) gelyk ingedeel in $B$ nie-oorvleulende en aangrensende intervalle. Dan word die aantal elemente van $\\mathbf{x}$ wat in elke interval val bepaal. Laastens word die aantal elemente in elke interval genormaliseer sodat dit die waarkynlikheids\\-digtheid $f_X(x)$ benader oor die betrokke interval. Die volgende figuur illustreer hierdie proses.  \n",
        "\n",
        "![hist](https://i.imgur.com/xe2AnzE.png?2)\n"
      ]
    },
    {
      "metadata": {
        "id": "DXUUTgCcmc_K",
        "colab_type": "text"
      },
      "cell_type": "markdown",
      "source": [
        "##Voor jy begin loop hierdie code"
      ]
    },
    {
      "metadata": {
        "id": "K352RnT3mb8V",
        "colab_type": "code",
        "colab": {}
      },
      "cell_type": "code",
      "source": [
        "import numpy as np\n",
        "from numpy.random import random as rand\n",
        "import matplotlib.pyplot as plt\n",
        "%matplotlib inline"
      ],
      "execution_count": 0,
      "outputs": []
    },
    {
      "metadata": {
        "id": "D6WbvO0Braa_",
        "colab_type": "code",
        "colab": {}
      },
      "cell_type": "code",
      "source": [
        "# Onthou jy kan ook altyd die help function gebruik om meer uit te vind\n",
        "help(np.histogram)"
      ],
      "execution_count": 0,
      "outputs": []
    },
    {
      "metadata": {
        "id": "WKdM6p69enVu",
        "colab_type": "text"
      },
      "cell_type": "markdown",
      "source": [
        "##Vraag 1\n"
      ]
    },
    {
      "metadata": {
        "id": "Ig12r-5Dew8B",
        "colab_type": "text"
      },
      "cell_type": "markdown",
      "source": [
        "Deur van `np.histogram()` gebruik te maak ([doc](https://docs.scipy.org/doc/numpy/reference/generated/numpy.histogram.html)), skryf 'n nuwe funksie, `histPDF()` in die \"code cell\" hieronder, wat die parameters $\\mathbf{x}$ (vektor data punte) en $B$ (aantal intervalle) aanvaar en 'n histogram afskatting van die waaskynlikheidsdigtheid van die data plot. By voorbeeld:\n",
        "\n",
        "`x = rand(10000)`   \n",
        "`histPDF(x,20)`\n",
        "\n",
        "sou die waaskynlikheidsdigtheidsfunksie van $\\mathbf{x}$ afskat deur middel van 20 intervalle.\n",
        "\n",
        "In hierdie funskie moet jy self die waarskynlikheidsdigtheids funksie vanaf die data uitwerk, en mag nie bestaande funksies wat dit vir jou doen gebruik nie.\n",
        "\n",
        "*Wenk:* Jy kan egter jou antwoord verifieer deur `plt.hist()` te gebruik en die `density=True` te stel (meer info [hier](https://matplotlib.org/api/_as_gen/matplotlib.pyplot.hist.html)).\n",
        "\n",
        "**Let wel:** Dit is ook 'n goeie ideë om `edgecolor=\"black\"` binne jou plot funksie te stel."
      ]
    },
    {
      "metadata": {
        "id": "QIHpP4GgmFj7",
        "colab_type": "code",
        "colab": {}
      },
      "cell_type": "code",
      "source": [
        "#Skryf jou funksie hier"
      ],
      "execution_count": 0,
      "outputs": []
    },
    {
      "metadata": {
        "id": "sqfXpaIwjaoj",
        "colab_type": "text"
      },
      "cell_type": "markdown",
      "source": [
        "##Vraag 2"
      ]
    },
    {
      "metadata": {
        "id": "KJ2RnQbqjcag",
        "colab_type": "text"
      },
      "cell_type": "markdown",
      "source": [
        "Gebruik jou funksie om die waaskynlikheidsdigtheidsfunksie van die volgende datastel te visualiseer met 30 intervalle:\n",
        "\n",
        "`x = [rand(50000), 2+rand(50000)]`\n",
        "\n",
        "Dui alle asse korrek aan."
      ]
    },
    {
      "metadata": {
        "id": "LK3COIBxsilK",
        "colab_type": "code",
        "colab": {}
      },
      "cell_type": "code",
      "source": [
        "#Jou kode hier"
      ],
      "execution_count": 0,
      "outputs": []
    },
    {
      "metadata": {
        "id": "jEpvh_9bu0s0",
        "colab_type": "text"
      },
      "cell_type": "markdown",
      "source": [
        "**Verduidelik** hoekom jy net 20 kolomme sien terwyl jy 30 intervalle gespesifiseer het."
      ]
    },
    {
      "metadata": {
        "id": "N24aN5k9u3e6",
        "colab_type": "text"
      },
      "cell_type": "markdown",
      "source": [
        "**DUBBEL KLIEK HIER om jou antwoord te tik**"
      ]
    },
    {
      "metadata": {
        "id": "KGlAoQcDjop6",
        "colab_type": "text"
      },
      "cell_type": "markdown",
      "source": [
        "##Vraag 3"
      ]
    },
    {
      "metadata": {
        "id": "mb8fghfojrzW",
        "colab_type": "text"
      },
      "cell_type": "markdown",
      "source": [
        "Herhaal die vorige vraag met die volgende datastel:\n",
        "\n",
        "`x = np.concatenate((rand(50000), 2+rand(100000)))`\n"
      ]
    },
    {
      "metadata": {
        "id": "ZoyKpjYvvRpJ",
        "colab_type": "code",
        "colab": {}
      },
      "cell_type": "code",
      "source": [
        "#Jou kode hier"
      ],
      "execution_count": 0,
      "outputs": []
    },
    {
      "metadata": {
        "id": "y9zYWdspvRyQ",
        "colab_type": "text"
      },
      "cell_type": "markdown",
      "source": [
        "**Verduidelik** die asymmetrie wat jy sien."
      ]
    },
    {
      "metadata": {
        "id": "t842YtnfvWra",
        "colab_type": "text"
      },
      "cell_type": "markdown",
      "source": [
        "**DUBBEL KLIEK HIER om jou antwoord te tik**"
      ]
    },
    {
      "metadata": {
        "id": "wq02JBLJlno6",
        "colab_type": "text"
      },
      "cell_type": "markdown",
      "source": [
        "##Vraag 4"
      ]
    },
    {
      "metadata": {
        "id": "LJykakQslozb",
        "colab_type": "text"
      },
      "cell_type": "markdown",
      "source": [
        "Herhaal die vorige vraag met die volgende datastel:\n",
        "\n",
        "`x = rand(150000) + (2+2*rand(150000))`"
      ]
    },
    {
      "metadata": {
        "id": "zt_NeNt-xw9w",
        "colab_type": "code",
        "colab": {}
      },
      "cell_type": "code",
      "source": [
        "#Jou kode hier"
      ],
      "execution_count": 0,
      "outputs": []
    },
    {
      "metadata": {
        "id": "jJ_flAm1xxS-",
        "colab_type": "text"
      },
      "cell_type": "markdown",
      "source": [
        "**Verduidelik** wat jy sien. \n",
        "\n",
        "*Wenk:* Dit mag nuttig wees om die twee verdelings apart te plot"
      ]
    },
    {
      "metadata": {
        "id": "WgJRu9Iiy-XI",
        "colab_type": "code",
        "colab": {}
      },
      "cell_type": "code",
      "source": [
        "#Opsionele kode hier"
      ],
      "execution_count": 0,
      "outputs": []
    },
    {
      "metadata": {
        "id": "n1JPi5t-xxga",
        "colab_type": "text"
      },
      "cell_type": "markdown",
      "source": [
        "**DUBBEL KLIEK HIER om jou antwoord te tik**"
      ]
    },
    {
      "metadata": {
        "id": "VuTv7sWqx3tP",
        "colab_type": "text"
      },
      "cell_type": "markdown",
      "source": [
        "##Vraag 5"
      ]
    },
    {
      "metadata": {
        "id": "pMkG5dr-zIFL",
        "colab_type": "text"
      },
      "cell_type": "markdown",
      "source": [
        "Loop die volgende code cell om 'n datastel af te laai wat in hierdie vraag gebruik gaan word. Gebruik dan jou histogram funksie om die waaskynlikheidsdigtheidsfunksie van die datastel te visualiseer vir die volgende gevalle."
      ]
    },
    {
      "metadata": {
        "id": "It8Hg2JozUP1",
        "colab_type": "code",
        "colab": {
          "base_uri": "https://localhost:8080/",
          "height": 34
        },
        "outputId": "3f2efb0e-f2ef-453e-c6fd-c3f7a0f7e488"
      },
      "cell_type": "code",
      "source": [
        "#@title Download data (RUN ME!) { display-mode: \"form\" }\n",
        "import urllib.request as URL\n",
        "import numpy as np\n",
        "\n",
        "url = \"https://drive.google.com/uc?export=download&id=1h4Cfj3I9cVZhI1VAigirNLBnkifTcbD4\"   #npy file\n",
        "#url2 = \"https://drive.google.com/uc?export=download&id=12GiM-EvHarkMBZxCUANPBHvkzqSuauCj\"  #txt file\n",
        "\n",
        "URL.urlretrieve(url = url, filename = \"dat.npy\");\n",
        "x = np.load(\"dat.npy\");\n",
        "print(\"x.shape =\", x.shape)"
      ],
      "execution_count": 0,
      "outputs": [
        {
          "output_type": "stream",
          "text": [
            "x.shape = (200000,)\n"
          ],
          "name": "stdout"
        }
      ]
    },
    {
      "metadata": {
        "id": "oZ43VTObzOQZ",
        "colab_type": "text"
      },
      "cell_type": "markdown",
      "source": [
        "###a)\n",
        "Gebruik 10, 20, 40 en 80 intervalle om die waaskynlikheidsdigtheidsfunksie af te skat. **Verduidelik** wat jy sien."
      ]
    },
    {
      "metadata": {
        "id": "cE_NhqeMzUrT",
        "colab_type": "code",
        "colab": {}
      },
      "cell_type": "code",
      "source": [
        "#Kode vir 10 bins"
      ],
      "execution_count": 0,
      "outputs": []
    },
    {
      "metadata": {
        "id": "hdaJ6v20AD-r",
        "colab_type": "code",
        "colab": {}
      },
      "cell_type": "code",
      "source": [
        "#Kode vir 20 bins"
      ],
      "execution_count": 0,
      "outputs": []
    },
    {
      "metadata": {
        "id": "O3-R32NDAEjc",
        "colab_type": "code",
        "colab": {}
      },
      "cell_type": "code",
      "source": [
        "#Kode vir 40 bins"
      ],
      "execution_count": 0,
      "outputs": []
    },
    {
      "metadata": {
        "id": "YLyh40WiAEop",
        "colab_type": "code",
        "colab": {}
      },
      "cell_type": "code",
      "source": [
        "#Kode vir 80 bins"
      ],
      "execution_count": 0,
      "outputs": []
    },
    {
      "metadata": {
        "id": "TqVLnEuqAeLV",
        "colab_type": "text"
      },
      "cell_type": "markdown",
      "source": [
        "**Verduidelik** wat jy sien."
      ]
    },
    {
      "metadata": {
        "id": "H9RAbqnjzZJk",
        "colab_type": "text"
      },
      "cell_type": "markdown",
      "source": [
        "**DUBBEL KLIEK HIER om jou antwoord te tik**"
      ]
    },
    {
      "metadata": {
        "id": "BOjuCz5jzh8b",
        "colab_type": "text"
      },
      "cell_type": "markdown",
      "source": [
        "###b)\n",
        "Bepaal die gemiddeld en die standaardafwyking van $x$ en deur die volgende code cell te loop, sien hoe goed jou afskatting die waaskynlikheidsdigtheidsfunksie met 80 intervalle pas. How doeltreffend beskryf hierdie momente die data?"
      ]
    },
    {
      "metadata": {
        "id": "wCC4gTWezh8b",
        "colab_type": "code",
        "colab": {}
      },
      "cell_type": "code",
      "source": [
        "gemiddeld = 0\n",
        "stdAfw = 1\n",
        "\n",
        "#Jou kode hier (plot ook die distribution)\n",
        "\n",
        "\n",
        "\n",
        "#plot gemiddeld en stdAfw lyne\n",
        "plt.axvline(x=mean, color=\"red\", label=\"Gemiddeld\")\n",
        "plt.axvline(x=(mean + stdDev), color=\"orange\")\n",
        "plt.axvline(x=(mean - stdDev), color=\"orange\", label=\"StdAfw\")\n",
        "plt.legend([\"Gemiddeld\",\"StdAfw\"]);"
      ],
      "execution_count": 0,
      "outputs": []
    },
    {
      "metadata": {
        "id": "EKzclB6sBrpO",
        "colab_type": "text"
      },
      "cell_type": "markdown",
      "source": [
        "**Motiveer** jou resultaat hieronder."
      ]
    },
    {
      "metadata": {
        "id": "77BvsIpXzh8d",
        "colab_type": "text"
      },
      "cell_type": "markdown",
      "source": [
        "**DUBBEL KLIEK HIER om jou antwoord te tik**"
      ]
    }
  ]
}