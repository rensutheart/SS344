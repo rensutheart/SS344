{
  "nbformat": 4,
  "nbformat_minor": 0,
  "metadata": {
    "colab": {
      "name": "SS344 Practical 1",
      "version": "0.3.2",
      "provenance": [],
      "collapsed_sections": []
    },
    "kernelspec": {
      "name": "python3",
      "display_name": "Python 3"
    }
  },
  "cells": [
    {
      "metadata": {
        "id": "WKiyw9AfejKL",
        "colab_type": "text"
      },
      "cell_type": "markdown",
      "source": [
        "#Practical 1\n",
        "Histogramme is 'n nuttige nie-parametriese metode om 'n waarskynlikheidsdigtheidsfunksie af te skat. Gegee 'n stel $N$ data punte $\\mathbf{x} = \\{x_1, x_2, \\ldots , x_N\\}$, word die bereik van $\\mathbf{x}$ (d.w.s. die interval tussen die minimum en maksimum waarde in $\\mathbf{x}$) gelyk ingedeel in $B$ nie-oorvleulende en aangrensende intervalle. Dan word die aantal elemente van $\\mathbf{x}$ wat in elke interval val bepaal. Laastens word die aantal elemente in elke interval genormaliseer sodat dit die waarkynlikheids\\-digtheid $f_X(x)$ benader oor die betrokke interval. Die volgende figuur illustreer hierdie proses.\n",
        "\n",
        "![hist](https://i.imgur.com/xe2AnzE.png?2)\n"
      ]
    },
    {
      "metadata": {
        "id": "DXUUTgCcmc_K",
        "colab_type": "text"
      },
      "cell_type": "markdown",
      "source": [
        "##Before you begin, first run this code"
      ]
    },
    {
      "metadata": {
        "id": "K352RnT3mb8V",
        "colab_type": "code",
        "colab": {}
      },
      "cell_type": "code",
      "source": [
        "import numpy as np\n",
        "from numpy.random import random as rand\n",
        "import matplotlib.pyplot as plt\n",
        "%matplotlib inline"
      ],
      "execution_count": 0,
      "outputs": []
    },
    {
      "metadata": {
        "id": "D6WbvO0Braa_",
        "colab_type": "code",
        "colab": {}
      },
      "cell_type": "code",
      "source": [
        "# Remember you can always use the help function to find out more about functions.\n",
        "help(np.histogram)"
      ],
      "execution_count": 0,
      "outputs": []
    },
    {
      "metadata": {
        "id": "WKdM6p69enVu",
        "colab_type": "text"
      },
      "cell_type": "markdown",
      "source": [
        "##Question 1\n"
      ]
    },
    {
      "metadata": {
        "id": "Ig12r-5Dew8B",
        "colab_type": "text"
      },
      "cell_type": "markdown",
      "source": [
        "By using `np.histogram()` ([doc](https://docs.scipy.org/doc/numpy/reference/generated/numpy.histogram.html)), write a new function, `histPDF()` in the \"code cell\" below, that takes the parameters $\\mathbf{x}$ (vector of data points) and $B$ (number of bins) and plots a histogram estimate of the probability density of the data. For example:\n",
        "\n",
        "`x = rand(10000)`   \n",
        "`histPDF(x,20)`\n",
        "\n",
        "would estimate the probability density function of $\\mathbf{x}$ using 20 bins.\n",
        "\n",
        "In this function you must manually calculate the probability density function and you may not use existing functions that do all the work for you.\n",
        "\n",
        "*Hint:* You may, however, verify your answer using `plt.hist()` with `density=True` (more info [here](https://matplotlib.org/api/_as_gen/matplotlib.pyplot.hist.html)).\n",
        "\n",
        "**Note:** It is a good idea to use  `edgecolor=\"black\"` inside your plot function."
      ]
    },
    {
      "metadata": {
        "id": "QIHpP4GgmFj7",
        "colab_type": "code",
        "colab": {}
      },
      "cell_type": "code",
      "source": [
        "# Write your function here\n"
      ],
      "execution_count": 0,
      "outputs": []
    },
    {
      "metadata": {
        "id": "sqfXpaIwjaoj",
        "colab_type": "text"
      },
      "cell_type": "markdown",
      "source": [
        "##Question 2"
      ]
    },
    {
      "metadata": {
        "id": "KJ2RnQbqjcag",
        "colab_type": "text"
      },
      "cell_type": "markdown",
      "source": [
        "Use your function to visualise the probability density of the following dataset using 30 bins:\n",
        "\n",
        "`x = [rand(50000), 2+rand(50000)]`\n",
        "\n",
        "Label all the axes properly."
      ]
    },
    {
      "metadata": {
        "id": "LK3COIBxsilK",
        "colab_type": "code",
        "colab": {}
      },
      "cell_type": "code",
      "source": [
        "#Jou kode hier"
      ],
      "execution_count": 0,
      "outputs": []
    },
    {
      "metadata": {
        "id": "jEpvh_9bu0s0",
        "colab_type": "text"
      },
      "cell_type": "markdown",
      "source": [
        "**Explain** why do you seen only 20 bars when you specify 30 bins."
      ]
    },
    {
      "metadata": {
        "id": "N24aN5k9u3e6",
        "colab_type": "text"
      },
      "cell_type": "markdown",
      "source": [
        "**DOUBLE CLICK HERE to fill in your answer**"
      ]
    },
    {
      "metadata": {
        "id": "KGlAoQcDjop6",
        "colab_type": "text"
      },
      "cell_type": "markdown",
      "source": [
        "##Question 3"
      ]
    },
    {
      "metadata": {
        "id": "mb8fghfojrzW",
        "colab_type": "text"
      },
      "cell_type": "markdown",
      "source": [
        "Repeat the previous question using the following dataset:\n",
        "\n",
        "`x = np.concatenate((rand(50000), 2+rand(100000)))`\n"
      ]
    },
    {
      "metadata": {
        "id": "ZoyKpjYvvRpJ",
        "colab_type": "code",
        "colab": {}
      },
      "cell_type": "code",
      "source": [
        "# Your code here"
      ],
      "execution_count": 0,
      "outputs": []
    },
    {
      "metadata": {
        "id": "y9zYWdspvRyQ",
        "colab_type": "text"
      },
      "cell_type": "markdown",
      "source": [
        "**Explain** the assymmetry you see."
      ]
    },
    {
      "metadata": {
        "id": "t842YtnfvWra",
        "colab_type": "text"
      },
      "cell_type": "markdown",
      "source": [
        "**DOUBLE CLICK HERE to fill in your answer**"
      ]
    },
    {
      "metadata": {
        "id": "wq02JBLJlno6",
        "colab_type": "text"
      },
      "cell_type": "markdown",
      "source": [
        "##Question 4"
      ]
    },
    {
      "metadata": {
        "id": "LJykakQslozb",
        "colab_type": "text"
      },
      "cell_type": "markdown",
      "source": [
        "Repeat the previous question using the following dataset:\n",
        "\n",
        "`x = rand(150000) + (2+2*rand(150000))`"
      ]
    },
    {
      "metadata": {
        "id": "zt_NeNt-xw9w",
        "colab_type": "code",
        "colab": {}
      },
      "cell_type": "code",
      "source": [
        "# Your code here"
      ],
      "execution_count": 0,
      "outputs": []
    },
    {
      "metadata": {
        "id": "jJ_flAm1xxS-",
        "colab_type": "text"
      },
      "cell_type": "markdown",
      "source": [
        "**Explain** what you see.\n",
        "\n",
        "*Hint:* You may also want to plot the two distributions separately"
      ]
    },
    {
      "metadata": {
        "id": "WgJRu9Iiy-XI",
        "colab_type": "code",
        "colab": {}
      },
      "cell_type": "code",
      "source": [
        "#Optional code here"
      ],
      "execution_count": 0,
      "outputs": []
    },
    {
      "metadata": {
        "id": "n1JPi5t-xxga",
        "colab_type": "text"
      },
      "cell_type": "markdown",
      "source": [
        "**DOUBLE CLICK HERE to fill in your answer**"
      ]
    },
    {
      "metadata": {
        "id": "VuTv7sWqx3tP",
        "colab_type": "text"
      },
      "cell_type": "markdown",
      "source": [
        "##Question 5"
      ]
    },
    {
      "metadata": {
        "id": "pMkG5dr-zIFL",
        "colab_type": "text"
      },
      "cell_type": "markdown",
      "source": [
        "Run the following code cell to download the dataset used for this question. Use your histogram function to investigate the probability density of this data."
      ]
    },
    {
      "metadata": {
        "id": "It8Hg2JozUP1",
        "colab_type": "code",
        "colab": {}
      },
      "cell_type": "code",
      "source": [
        "#@title Download data (RUN ME!) { display-mode: \"form\" }\n",
        "import urllib.request as URL\n",
        "import numpy as np\n",
        "\n",
        "url = \"https://drive.google.com/uc?export=download&id=1h4Cfj3I9cVZhI1VAigirNLBnkifTcbD4\"   #npy file\n",
        "#url2 = \"https://drive.google.com/uc?export=download&id=12GiM-EvHarkMBZxCUANPBHvkzqSuauCj\"  #txt file\n",
        "\n",
        "URL.urlretrieve(url = url, filename = \"dat.npy\");\n",
        "x = np.load(\"dat.npy\");\n",
        "print(\"x.shape =\", x.shape)"
      ],
      "execution_count": 0,
      "outputs": []
    },
    {
      "metadata": {
        "id": "oZ43VTObzOQZ",
        "colab_type": "text"
      },
      "cell_type": "markdown",
      "source": [
        "###a)\n",
        "Use 10, 20, 40 and 80 bins to estimate the probability density function. **Explain** what you see."
      ]
    },
    {
      "metadata": {
        "id": "cE_NhqeMzUrT",
        "colab_type": "code",
        "colab": {}
      },
      "cell_type": "code",
      "source": [
        "#Code for 10 bins"
      ],
      "execution_count": 0,
      "outputs": []
    },
    {
      "metadata": {
        "id": "hdaJ6v20AD-r",
        "colab_type": "code",
        "colab": {}
      },
      "cell_type": "code",
      "source": [
        "#Code for 20 bins"
      ],
      "execution_count": 0,
      "outputs": []
    },
    {
      "metadata": {
        "id": "O3-R32NDAEjc",
        "colab_type": "code",
        "colab": {}
      },
      "cell_type": "code",
      "source": [
        "#Code for 40 bins"
      ],
      "execution_count": 0,
      "outputs": []
    },
    {
      "metadata": {
        "id": "YLyh40WiAEop",
        "colab_type": "code",
        "colab": {}
      },
      "cell_type": "code",
      "source": [
        "#Code for 80 bins"
      ],
      "execution_count": 0,
      "outputs": []
    },
    {
      "metadata": {
        "id": "TqVLnEuqAeLV",
        "colab_type": "text"
      },
      "cell_type": "markdown",
      "source": [
        "**Explain** what you see."
      ]
    },
    {
      "metadata": {
        "id": "H9RAbqnjzZJk",
        "colab_type": "text"
      },
      "cell_type": "markdown",
      "source": [
        "**DOUBLE CLICK HERE to fill in your answer**"
      ]
    },
    {
      "metadata": {
        "id": "BOjuCz5jzh8b",
        "colab_type": "text"
      },
      "cell_type": "markdown",
      "source": [
        "###b)\n",
        "Determine the mean and the standard deviation of $x$ and indicate them on your probability density estimate. How well do these moments describe the data?"
      ]
    },
    {
      "metadata": {
        "id": "wCC4gTWezh8b",
        "colab_type": "code",
        "colab": {
          "base_uri": "https://localhost:8080/",
          "height": 269
        },
        "outputId": "cef6b594-0944-468c-86dd-ba06de734206"
      },
      "cell_type": "code",
      "source": [
        "mean = 0\n",
        "stdDev = 1\n",
        "\n",
        "# Your code here (also plot graph)\n",
        "\n",
        "\n",
        "# plot mean and stdDev lines\n",
        "plt.axvline(x=mean, color=\"red\", label=\"Mean\")\n",
        "plt.axvline(x=(mean + stdDev), color=\"orange\")\n",
        "plt.axvline(x=(mean - stdDev), color=\"orange\", label=\"StdDev\")\n",
        "plt.legend([\"Mean\",\"StdDev\"]);"
      ],
      "execution_count": 12,
      "outputs": [
        {
          "output_type": "display_data",
          "data": {
            "image/png": "[encoded data removed]",
            "text/plain": [
              "<matplotlib.figure.Figure at 0x7f54811b4198>"
            ]
          },
          "metadata": {
            "tags": []
          }
        }
      ]
    },
    {
      "metadata": {
        "id": "EKzclB6sBrpO",
        "colab_type": "text"
      },
      "cell_type": "markdown",
      "source": [
        "**Motivate** your result"
      ]
    },
    {
      "metadata": {
        "id": "77BvsIpXzh8d",
        "colab_type": "text"
      },
      "cell_type": "markdown",
      "source": [
        "**DOUBLE CLICK HERE to fill in your answer**"
      ]
    }
  ]
}