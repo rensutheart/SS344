{
  "nbformat": 4,
  "nbformat_minor": 0,
  "metadata": {
    "colab": {
      "name": "Python introduction tutorial",
      "version": "0.3.2",
      "provenance": [],
      "collapsed_sections": []
    },
    "kernelspec": {
      "name": "python3",
      "display_name": "Python 3"
    }
  },
  "cells": [
    {
      "metadata": {
        "id": "8c0OxDxYyZXV",
        "colab_type": "text"
      },
      "cell_type": "markdown",
      "source": [
        "#Python Tutorial"
      ]
    },
    {
      "metadata": {
        "id": "IItsTv-AyZXW",
        "colab_type": "text"
      },
      "cell_type": "markdown",
      "source": [
        "Adapted by Rensu Theart from the [Notebook](https://github.com/kuleshov/cs228-material/blob/master/tutorials/python/cs228-python-tutorial.ipynb) by Volodymyr Kuleshov and Isaac Caswell and the Python [tutorial](http://cs231n.github.io/python-numpy-tutorial/) by Justin Johnson."
      ]
    },
    {
      "metadata": {
        "id": "h4rwFlbqUEUg",
        "colab_type": "text"
      },
      "cell_type": "markdown",
      "source": [
        "[**Open in  Google Colab**](https://colab.research.google.com/github/rensutheart/SS344/blob/master/Python_introduction_tutorial.ipynb) ![alt text](https://www.tensorflow.org/images/colab_logo_32px.png)\n"
      ]
    },
    {
      "metadata": {
        "id": "JXIu92oxViZz",
        "colab_type": "text"
      },
      "cell_type": "markdown",
      "source": [
        "##BEFORE YOU BEGIN: In order to use this notebook"
      ]
    },
    {
      "metadata": {
        "id": "cI8sDJ9dVm7U",
        "colab_type": "text"
      },
      "cell_type": "markdown",
      "source": [
        "You will require a Google account to run and edit this notebook (you can create one [here](https://accounts.google.com/signup/v2/webcreateaccount?hl=en&flowName=GlifWebSignIn&flowEntry=SignUp)). As soon as you have signed in (in the top right corner of the page). Then **make a copy** of the notebook, by clicking \"File>Save a copy in Drive\". As soon as the copy open click **CONNECT** also in the top right section of the page. When you see a check mark you know that you are ready to go. (Just accept any warning messages you might get.)\n",
        "\n",
        "**IF YOU DON'T HAVE A GOOGLE ACCOUNT**, and for whatever reason you do not want to create an account, download the notebook from [here](https://github.com/rensutheart/SS344) and run it locally with Jupyter. Just open the command prompt (Win-key+R, type `cmd`, press enter), navigate to the location and type:\n",
        "\n",
        "`jupyter notebook Python_introduction_tutorial.ipynb` \n",
        "\n",
        "Then to click on each code cell you would like to run, and click run."
      ]
    },
    {
      "metadata": {
        "id": "3tMUdisRyZXW",
        "colab_type": "text"
      },
      "cell_type": "markdown",
      "source": [
        "##Introduction"
      ]
    },
    {
      "metadata": {
        "id": "J_-j08oNyZXX",
        "colab_type": "text"
      },
      "cell_type": "markdown",
      "source": [
        "Python is a great general-purpose programming language on its own, but with the help of a few popular libraries (numpy, scipy, matplotlib) it becomes a powerful environment for scientific computing.\n",
        "\n",
        "We expect that many of you will have some experience with Python and numpy; for the rest of you, this section will serve as a quick crash course both on the Python programming language and on the use of Python for scientific computing.\n",
        "\n",
        "Some of you may have previous knowledge in Matlab, in which case we also recommend the numpy for Matlab users [page](https://docs.scipy.org/doc/numpy/user/numpy-for-matlab-users.html ). You can also find a very useful Matlab to Numpy conversion table [here](http://mathesaurus.sourceforge.net/matlab-numpy.html)."
      ]
    },
    {
      "metadata": {
        "id": "GIGUqfGFyZXX",
        "colab_type": "text"
      },
      "cell_type": "markdown",
      "source": [
        "##Basics of Python"
      ]
    },
    {
      "metadata": {
        "id": "knzwfOFkyZXY",
        "colab_type": "text"
      },
      "cell_type": "markdown",
      "source": [
        "Python is: \n",
        "*   A **high-level language**\n",
        "*   A **dynamically typed** - i.e. variable types don't need to be explicitly stated, Python will automatically assign the correct variable type.\n",
        "*   A **multiparadigm** programming language\n",
        "*   **Interpreted** - loops are very slow\n",
        "*   **Object-Oriented** From The Core\n",
        "*   With the use of [Numpy](http://www.numpy.org/) **matrix operations are highly optimized** - can often replace loops\n",
        "*   Good for rapid testing of an idea\n",
        "*   Good for **visualization** (with the use of packages, such as [Matplotlib](https://matplotlib.org/))\n",
        "*   Free To Use, Modify And Redistribute (it is open source)\n",
        "\n",
        "Python code is often said to be almost like pseudocode, since it allows you to express very powerful ideas in very few lines of code while being very readable. As an example, here is an implementation of the classic quicksort algorithm in Python (**you don't need to understand this code yet**, this is just to get you familiar with Python syntax. After you finished this tutorial, come back and see if you understand everything.).\n",
        "\n",
        "You can run code cells by clicking on the `[ ]` next to the code."
      ]
    },
    {
      "metadata": {
        "id": "97AIqwcJyZXY",
        "colab_type": "code",
        "colab": {
          "base_uri": "https://localhost:8080/",
          "height": 34
        },
        "outputId": "6c89a214-ac8c-47cf-c4fa-a35a30c92981"
      },
      "cell_type": "code",
      "source": [
        "from __future__ import print_function\n",
        "\n",
        "def quicksort(arr):\n",
        "    if len(arr) <= 1:\n",
        "        return arr\n",
        "    pivot = arr[len(arr) // 2]\n",
        "    left = [x for x in arr if x < pivot]\n",
        "    middle = [x for x in arr if x == pivot]\n",
        "    right = [x for x in arr if x > pivot]\n",
        "    return quicksort(left) + middle + quicksort(right)\n",
        "\n",
        "print(quicksort([3,6,8,10,1,2,1]))"
      ],
      "execution_count": 1,
      "outputs": [
        {
          "output_type": "stream",
          "text": [
            "[1, 1, 2, 3, 6, 8, 10]\n"
          ],
          "name": "stdout"
        }
      ]
    },
    {
      "metadata": {
        "id": "lANIktXCJh8v",
        "colab_type": "text"
      },
      "cell_type": "markdown",
      "source": [
        "**Important note about Python:** Since it is an interpreted language instructions are executed from **top to bottom**, and therefore a function cannot be called before it was defined. Also worth noting is that defining a function does not execute it, it first has to be called. Also **curly brackets** are are not used to destiguish between blocks of code (for example what is part of a function, or what is part of an if-statement), instead **indentation** is used - everything on the same indentation level is considered part of the same block of code. This can easily lead to code not doing what you expect, so be careful with your indentation."
      ]
    },
    {
      "metadata": {
        "id": "BAM3xWAhXH07",
        "colab_type": "text"
      },
      "cell_type": "markdown",
      "source": [
        "You can always find out more about any function, by calling the `help()` function."
      ]
    },
    {
      "metadata": {
        "id": "yh595ZDDXM1P",
        "colab_type": "code",
        "colab": {
          "base_uri": "https://localhost:8080/",
          "height": 221
        },
        "outputId": "7812560f-bd6c-4332-afec-d62c535d2989"
      },
      "cell_type": "code",
      "source": [
        "help(print)"
      ],
      "execution_count": 2,
      "outputs": [
        {
          "output_type": "stream",
          "text": [
            "Help on built-in function print in module builtins:\n",
            "\n",
            "print(...)\n",
            "    print(value, ..., sep=' ', end='\\n', file=sys.stdout, flush=False)\n",
            "    \n",
            "    Prints the values to a stream, or to sys.stdout by default.\n",
            "    Optional keyword arguments:\n",
            "    file:  a file-like object (stream); defaults to the current sys.stdout.\n",
            "    sep:   string inserted between values, default a space.\n",
            "    end:   string appended after the last value, default a newline.\n",
            "    flush: whether to forcibly flush the stream.\n",
            "\n"
          ],
          "name": "stdout"
        }
      ]
    },
    {
      "metadata": {
        "id": "Irx5wh87yZXe",
        "colab_type": "text"
      },
      "cell_type": "markdown",
      "source": [
        "###Note on Python versions"
      ]
    },
    {
      "metadata": {
        "id": "CvG0T506yZXe",
        "colab_type": "text"
      },
      "cell_type": "markdown",
      "source": [
        "There are currently two different supported versions of Python, 2.7 and 3.6. Somewhat confusingly, Python 3.0 introduced many backwards-incompatible changes to the language, so code written for 2.7 may not work under 3.6 and vice versa. For this class all code will use Python 3.6. (Run the code cell below to check the Python version)\n",
        "\n",
        "You can also change the Python version in the menu: **Edit>Notebook Settings**\n",
        "\n",
        "(If you use Python through a command line on a PC, you can check your Python version  by running `python --version`)."
      ]
    },
    {
      "metadata": {
        "id": "BIYON8mQ9-Y4",
        "colab_type": "code",
        "colab": {
          "base_uri": "https://localhost:8080/",
          "height": 34
        },
        "outputId": "caf5ea7b-b853-418c-ce6f-36ab338d8c52"
      },
      "cell_type": "code",
      "source": [
        "# Check Python version\n",
        "import platform \n",
        "print(platform.python_version())"
      ],
      "execution_count": 3,
      "outputs": [
        {
          "output_type": "stream",
          "text": [
            "3.6.3\n"
          ],
          "name": "stdout"
        }
      ]
    },
    {
      "metadata": {
        "id": "waMs9KOYyZXe",
        "colab_type": "text"
      },
      "cell_type": "markdown",
      "source": [
        "###Basic data types"
      ]
    },
    {
      "metadata": {
        "id": "jUgu3ETyCR1G",
        "colab_type": "text"
      },
      "cell_type": "markdown",
      "source": [
        "Like most languages, Python has a number of basic types including integers, floats, booleans, and strings. These data types behave in ways that are familiar from other programming languages."
      ]
    },
    {
      "metadata": {
        "id": "mdxrsvJGyZXf",
        "colab_type": "text"
      },
      "cell_type": "markdown",
      "source": [
        "####Numbers and basic arithmetic "
      ]
    },
    {
      "metadata": {
        "id": "BNW48rG5yZXf",
        "colab_type": "text"
      },
      "cell_type": "markdown",
      "source": [
        "Integers and floats work as you would expect from other languages, except note that you do not have to state the variable type explicitly, *and can even change it halfway*, so be careful (remember Python is dynamically typed):"
      ]
    },
    {
      "metadata": {
        "id": "LGNlR32dyZXg",
        "colab_type": "code",
        "colab": {
          "base_uri": "https://localhost:8080/",
          "height": 51
        },
        "outputId": "0ed70524-6746-4ec7-b6f5-bb4527ba356c"
      },
      "cell_type": "code",
      "source": [
        "# note: Python 2.7 does not require the brackets for print, but Python 3.+ does\n",
        "x = 'test'  \n",
        "print(x, type(x)) \n",
        "\n",
        "x = 3\n",
        "print(x, type(x))"
      ],
      "execution_count": 4,
      "outputs": [
        {
          "output_type": "stream",
          "text": [
            "test <class 'str'>\n",
            "3 <class 'int'>\n"
          ],
          "name": "stdout"
        }
      ]
    },
    {
      "metadata": {
        "id": "Da9epAPEyZXj",
        "colab_type": "code",
        "colab": {
          "base_uri": "https://localhost:8080/",
          "height": 85
        },
        "outputId": "002f3553-0dd7-4718-9039-e6c4c78112e5"
      },
      "cell_type": "code",
      "source": [
        "print(x + 1)   # Addition;\n",
        "print(x - 1)   # Subtraction;\n",
        "print(x * 2)   # Multiplication;\n",
        "print(x ** 2)  # Exponentiation;"
      ],
      "execution_count": 5,
      "outputs": [
        {
          "output_type": "stream",
          "text": [
            "4\n",
            "2\n",
            "6\n",
            "9\n"
          ],
          "name": "stdout"
        }
      ]
    },
    {
      "metadata": {
        "id": "iQ2z1wVh-kKH",
        "colab_type": "text"
      },
      "cell_type": "markdown",
      "source": [
        "An important note on division. Since Python 3 any division is treated as floating point division by default (even dividing 2 integers), this prevents accidental miscalculations and truncation of decimal values. It is however still possible to do integer division and truncate the decimals by using a double division symbol `//` . See the examples below."
      ]
    },
    {
      "metadata": {
        "id": "8p9jxKpv_NEv",
        "colab_type": "code",
        "colab": {
          "base_uri": "https://localhost:8080/",
          "height": 85
        },
        "outputId": "1f3ed4d3-b78c-480d-880b-4850bb7674ab"
      },
      "cell_type": "code",
      "source": [
        "print(7/3)  # Python treats this as a floating point division\n",
        "print(7//3) # force intiger division\n",
        "print(7.0/3.0)\n",
        "print(7.0//3.0) # you can force integer division even with floats"
      ],
      "execution_count": 6,
      "outputs": [
        {
          "output_type": "stream",
          "text": [
            "2.3333333333333335\n",
            "2\n",
            "2.3333333333333335\n",
            "2.0\n"
          ],
          "name": "stdout"
        }
      ]
    },
    {
      "metadata": {
        "id": "vTWk7OQN_iXs",
        "colab_type": "text"
      },
      "cell_type": "markdown",
      "source": [
        "Python also supports += notation, to perform the operation on the variable itself"
      ]
    },
    {
      "metadata": {
        "id": "vTDNgrDXyZXl",
        "colab_type": "code",
        "colab": {
          "base_uri": "https://localhost:8080/",
          "height": 85
        },
        "outputId": "38e6a373-5eb6-476c-94b4-864c637af828"
      },
      "cell_type": "code",
      "source": [
        "x = 3\n",
        "\n",
        "x += 1\n",
        "print(x)  # Prints \"4\"\n",
        "x -= 1\n",
        "print(x)  # Prints \"3\"\n",
        "x *= 2\n",
        "print(x)  # Prints \"6\"\n",
        "x /= 2\n",
        "print(x)  # Prints \"3.0\""
      ],
      "execution_count": 7,
      "outputs": [
        {
          "output_type": "stream",
          "text": [
            "4\n",
            "3\n",
            "6\n",
            "3.0\n"
          ],
          "name": "stdout"
        }
      ]
    },
    {
      "metadata": {
        "id": "klvzt0w-yZXr",
        "colab_type": "text"
      },
      "cell_type": "markdown",
      "source": [
        "Note that unlike many languages, Python **does not** have unary increment (x++) or decrement (x--) operators.\n",
        "\n",
        "Python also has built-in types for long integers and complex numbers; you can find all of the details in the [documentation](https://docs.python.org/2/library/stdtypes.html#numeric-types-int-float-long-complex)."
      ]
    },
    {
      "metadata": {
        "id": "aHlBJAzbyZXz",
        "colab_type": "text"
      },
      "cell_type": "markdown",
      "source": [
        "####Strings"
      ]
    },
    {
      "metadata": {
        "id": "VsbsFc9PyZX0",
        "colab_type": "code",
        "colab": {
          "base_uri": "https://localhost:8080/",
          "height": 54
        },
        "outputId": "34d1d443-90e1-4b23-8e0d-ad326796d248"
      },
      "cell_type": "code",
      "source": [
        "hello = 'hello'   # String literals can use single quotes\n",
        "world = \"world\"   # or double quotes; it does not matter.\n",
        "print(hello, len(hello)) # len() is similar to string.length() or array.length in Java"
      ],
      "execution_count": 10,
      "outputs": [
        {
          "output_type": "stream",
          "text": [
            "hello 5\n"
          ],
          "name": "stdout"
        }
      ]
    },
    {
      "metadata": {
        "id": "iL80hJdHyZX3",
        "colab_type": "code",
        "colab": {
          "base_uri": "https://localhost:8080/",
          "height": 54
        },
        "outputId": "59ee9a42-38a2-4542-a861-51d8b8e081d4"
      },
      "cell_type": "code",
      "source": [
        "hw = hello + ' ' + world  # String concatenation\n",
        "print(hw)"
      ],
      "execution_count": 11,
      "outputs": [
        {
          "output_type": "stream",
          "text": [
            "hello world\n"
          ],
          "name": "stdout"
        }
      ]
    },
    {
      "metadata": {
        "id": "2RcTGp-PyZX5",
        "colab_type": "code",
        "colab": {
          "base_uri": "https://localhost:8080/",
          "height": 54
        },
        "outputId": "aa974be1-1ea3-47cf-b729-8f652241ba54"
      },
      "cell_type": "code",
      "source": [
        "hw12 = '%s %s %d' % (hello, world, 12)  # sprintf style string formatting\n",
        "print(hw12)"
      ],
      "execution_count": 12,
      "outputs": [
        {
          "output_type": "stream",
          "text": [
            "hello world 12\n"
          ],
          "name": "stdout"
        }
      ]
    },
    {
      "metadata": {
        "id": "QFJ4RQP-yZX9",
        "colab_type": "text"
      },
      "cell_type": "markdown",
      "source": [
        "String objects have a bunch of useful methods that you can read about here [documentation](https://docs.python.org/3/library/stdtypes.html#string-methods)."
      ]
    },
    {
      "metadata": {
        "id": "oOc7e_hWyZXr",
        "colab_type": "text"
      },
      "cell_type": "markdown",
      "source": [
        "####Booleans"
      ]
    },
    {
      "metadata": {
        "id": "VA9KSLUgyZXs",
        "colab_type": "text"
      },
      "cell_type": "markdown",
      "source": [
        "Python implements all of the usual operators for Boolean logic, but uses English words `and` and `or` rather than symbols (`&&`, `||`, etc.):"
      ]
    },
    {
      "metadata": {
        "id": "9pwtUMxpyZXt",
        "colab_type": "code",
        "colab": {
          "base_uri": "https://localhost:8080/",
          "height": 34
        },
        "outputId": "3389bb64-5dd4-4b42-c01c-f3202e42e08f"
      },
      "cell_type": "code",
      "source": [
        "t, f = True, False   # note the required capitalization of T and F\n",
        "print(type(t))"
      ],
      "execution_count": 8,
      "outputs": [
        {
          "output_type": "stream",
          "text": [
            "<class 'bool'>\n"
          ],
          "name": "stdout"
        }
      ]
    },
    {
      "metadata": {
        "id": "lHaSjfffyZXv",
        "colab_type": "text"
      },
      "cell_type": "markdown",
      "source": [
        "Now we let's look at the operations:"
      ]
    },
    {
      "metadata": {
        "id": "zm70rXBdyZXw",
        "colab_type": "code",
        "colab": {
          "base_uri": "https://localhost:8080/",
          "height": 85
        },
        "outputId": "50bfcd2a-3226-407a-b1e0-977df1650749"
      },
      "cell_type": "code",
      "source": [
        "print(t and f) # Logical AND (Java &&)\n",
        "print(t or f)  # Logical OR (Java ||)\n",
        "print(not t)   # Logical NOT (Java !)\n",
        "print(t != f)  # Logical XOR (Java ^) also can be read as not-equal"
      ],
      "execution_count": 9,
      "outputs": [
        {
          "output_type": "stream",
          "text": [
            "False\n",
            "True\n",
            "False\n",
            "True\n"
          ],
          "name": "stdout"
        }
      ]
    },
    {
      "metadata": {
        "id": "mhFCQF5o0omB",
        "colab_type": "text"
      },
      "cell_type": "markdown",
      "source": [
        "###Conditionals\n"
      ]
    },
    {
      "metadata": {
        "id": "xuVHcuVt1jZZ",
        "colab_type": "text"
      },
      "cell_type": "markdown",
      "source": [
        "Python supports the usual logical conditions from mathematics:\n",
        "\n",
        "* Equals: `a == b`\n",
        "* Not Equals: `a != b`\n",
        "* Less than: `a < b`\n",
        "* Less than or equal to: `a <= b`\n",
        "* Greater than: `a > b`\n",
        "* Greater than or equal to: `a >= b`\n",
        "\n",
        "These conditions can be used in several ways, most commonly in if-statements and loops. From the example below note that the round brackets around the condition is optional and the end of the condition is indicated with a colon (`:`). What is considered part of the if statement is based on the indentation. (Run this code cell a few times with different values to make sure you understand the it).\n"
      ]
    },
    {
      "metadata": {
        "id": "zblQ4vhy1kQV",
        "colab_type": "code",
        "colab": {
          "base_uri": "https://localhost:8080/",
          "height": 34
        },
        "outputId": "b60744fa-32f7-4135-be28-c2e25cd267ac"
      },
      "cell_type": "code",
      "source": [
        "x = 5\n",
        "y = 7\n",
        "\n",
        "if x > y:\n",
        "  print(\"x is greater than y\")\n",
        "elif x < y:\n",
        "  print(\"x is smaller than y\")\n",
        "else:\n",
        "  print(\"x is equal to y\")"
      ],
      "execution_count": 13,
      "outputs": [
        {
          "output_type": "stream",
          "text": [
            "x is smaller than y\n"
          ],
          "name": "stdout"
        }
      ]
    },
    {
      "metadata": {
        "id": "PZTsWhbg2dPg",
        "colab_type": "code",
        "colab": {
          "base_uri": "https://localhost:8080/",
          "height": 34
        },
        "outputId": "e33595d5-e31b-46f8-f11c-a1c344769408"
      },
      "cell_type": "code",
      "source": [
        "x, y, z = 8, 9, 7\n",
        "\n",
        "if (x < y and z > x):\n",
        "  print(\"x is the smallest of the three numbers\")\n",
        "elif (y > x or y > z):\n",
        "  print(\"y is not the smallest\")\n",
        "else:\n",
        "  print(\"y is the smallest\")"
      ],
      "execution_count": 14,
      "outputs": [
        {
          "output_type": "stream",
          "text": [
            "y is not the smallest\n"
          ],
          "name": "stdout"
        }
      ]
    },
    {
      "metadata": {
        "id": "wMz6uXKy3Ue6",
        "colab_type": "text"
      },
      "cell_type": "markdown",
      "source": [
        "Unfortunately there is no `switch...case` equavalent in Python. There are however several possible workarounds other than nested if statements. See [here](https://jaxenter.com/implement-switch-case-statement-python-138315.html) for more info."
      ]
    },
    {
      "metadata": {
        "id": "srdrmzmx4Y4V",
        "colab_type": "text"
      },
      "cell_type": "markdown",
      "source": [
        "###Loops"
      ]
    },
    {
      "metadata": {
        "id": "enEF5cb34c43",
        "colab_type": "text"
      },
      "cell_type": "markdown",
      "source": [
        "Loops are executed slowly (Python is interpreted) - avoid if speed is important.\n",
        "\n",
        "Loops can also be nested, and then it becomes very important to keep track of the indentation.\n"
      ]
    },
    {
      "metadata": {
        "id": "WY4Pv2PN5UP8",
        "colab_type": "text"
      },
      "cell_type": "markdown",
      "source": [
        "####range() function"
      ]
    },
    {
      "metadata": {
        "id": "ekfl-cZ15Ws8",
        "colab_type": "text"
      },
      "cell_type": "markdown",
      "source": [
        "We often use the `range()` function to indicate how many times the loop should iterate, and what the spacing between indices should be. It only requires 1 parameter for the stop value, although the start and step values can also be given, and all parameters must be integers, but can be positive or negative. The function prototype is `range([start], stop[, step])`. This function simply returns a sequence of numbers (not a list object), that the loop can iterate over. Here are 4 examples, with the output converted to a list for easy readability.\n"
      ]
    },
    {
      "metadata": {
        "id": "xtMbjir-5qU4",
        "colab_type": "code",
        "colab": {
          "base_uri": "https://localhost:8080/",
          "height": 85
        },
        "outputId": "6377cf62-4dbe-45e2-d5dc-e1ebd7f710bb"
      },
      "cell_type": "code",
      "source": [
        "print(list(range(5))) # range(x) generates a sequence from 0 to (x-1)\n",
        "print(list(range(3, 6)))\n",
        "print(list(range(4, 10, 2)))\n",
        "print(list(range(0, -10, -2)))"
      ],
      "execution_count": 15,
      "outputs": [
        {
          "output_type": "stream",
          "text": [
            "[0, 1, 2, 3, 4]\n",
            "[3, 4, 5]\n",
            "[4, 6, 8]\n",
            "[0, -2, -4, -6, -8]\n"
          ],
          "name": "stdout"
        }
      ]
    },
    {
      "metadata": {
        "id": "9sfODQpg7BE_",
        "colab_type": "text"
      },
      "cell_type": "markdown",
      "source": [
        "####for-loop"
      ]
    },
    {
      "metadata": {
        "id": "foEMicCZ7ZxJ",
        "colab_type": "text"
      },
      "cell_type": "markdown",
      "source": [
        "Loops are executed over any sequence of data. Similar to conditionals, the for loop condition is terminated with a colon (`:`) and the block of code that is looped is determined with indentation."
      ]
    },
    {
      "metadata": {
        "id": "4Lw2k-9I7EO3",
        "colab_type": "code",
        "colab": {
          "base_uri": "https://localhost:8080/",
          "height": 34
        },
        "outputId": "65ee7729-0ce8-45ee-b64a-644546498c1e"
      },
      "cell_type": "code",
      "source": [
        "x = 0\n",
        "\n",
        "for i in range(0,6):\n",
        "  x += i\n",
        "  \n",
        "print(x) #1+2+3+4+5"
      ],
      "execution_count": 16,
      "outputs": [
        {
          "output_type": "stream",
          "text": [
            "15\n"
          ],
          "name": "stdout"
        }
      ]
    },
    {
      "metadata": {
        "id": "FRbntD507ttR",
        "colab_type": "code",
        "colab": {
          "base_uri": "https://localhost:8080/",
          "height": 102
        },
        "outputId": "918884a7-7e5c-435e-a6c6-34f8cd58b969"
      },
      "cell_type": "code",
      "source": [
        "for c in \"Hello\":\n",
        "  print(c)"
      ],
      "execution_count": 17,
      "outputs": [
        {
          "output_type": "stream",
          "text": [
            "H\n",
            "e\n",
            "l\n",
            "l\n",
            "o\n"
          ],
          "name": "stdout"
        }
      ]
    },
    {
      "metadata": {
        "id": "dawC1SVn8IEs",
        "colab_type": "text"
      },
      "cell_type": "markdown",
      "source": [
        "`continue` and `break` work the same as other programming languages."
      ]
    },
    {
      "metadata": {
        "id": "Ews9NcI89Fw2",
        "colab_type": "code",
        "colab": {
          "base_uri": "https://localhost:8080/",
          "height": 51
        },
        "outputId": "2a722f43-f9dd-492e-ddcc-005c74359fcb"
      },
      "cell_type": "code",
      "source": [
        "fruits = [\"apple\", \"banana\", \"cherry\"]\n",
        "for x in fruits:\n",
        "  if x == \"banana\":\n",
        "    continue\n",
        "  print(x)"
      ],
      "execution_count": 18,
      "outputs": [
        {
          "output_type": "stream",
          "text": [
            "apple\n",
            "cherry\n"
          ],
          "name": "stdout"
        }
      ]
    },
    {
      "metadata": {
        "id": "ku16Elqz9I8U",
        "colab_type": "code",
        "colab": {
          "base_uri": "https://localhost:8080/",
          "height": 34
        },
        "outputId": "c99bf385-51e9-4b9d-cbec-44dec6b73aca"
      },
      "cell_type": "code",
      "source": [
        "fruits = [\"apple\", \"banana\", \"cherry\"]\n",
        "for x in fruits:\n",
        "  if x == \"banana\":\n",
        "    break\n",
        "  print(x)"
      ],
      "execution_count": 19,
      "outputs": [
        {
          "output_type": "stream",
          "text": [
            "apple\n"
          ],
          "name": "stdout"
        }
      ]
    },
    {
      "metadata": {
        "id": "SYOjjPG_9RaG",
        "colab_type": "text"
      },
      "cell_type": "markdown",
      "source": [
        "####while-loop"
      ]
    },
    {
      "metadata": {
        "id": "bU3ek-By9VeE",
        "colab_type": "text"
      },
      "cell_type": "markdown",
      "source": [
        "With the while loop we can execute a set of statements as long as a condition is true."
      ]
    },
    {
      "metadata": {
        "id": "qOH3cluF9bbR",
        "colab_type": "code",
        "colab": {
          "base_uri": "https://localhost:8080/",
          "height": 102
        },
        "outputId": "80f01cc3-fb91-44fb-e06f-b3d7239acda5"
      },
      "cell_type": "code",
      "source": [
        "i = 1\n",
        "while i < 6:\n",
        "  print(i)\n",
        "  i += 1"
      ],
      "execution_count": 20,
      "outputs": [
        {
          "output_type": "stream",
          "text": [
            "1\n",
            "2\n",
            "3\n",
            "4\n",
            "5\n"
          ],
          "name": "stdout"
        }
      ]
    },
    {
      "metadata": {
        "id": "Qou9mgOTyZYE",
        "colab_type": "text"
      },
      "cell_type": "markdown",
      "source": [
        "###Containers"
      ]
    },
    {
      "metadata": {
        "id": "DGKxm5N2yZYF",
        "colab_type": "text"
      },
      "cell_type": "markdown",
      "source": [
        "Python includes several built-in container types: lists, dictionaries, sets, and tuples."
      ]
    },
    {
      "metadata": {
        "id": "ghvGsoQFyZYG",
        "colab_type": "text"
      },
      "cell_type": "markdown",
      "source": [
        "####Lists"
      ]
    },
    {
      "metadata": {
        "id": "yhjx6wITyZYH",
        "colab_type": "text"
      },
      "cell_type": "markdown",
      "source": [
        "A list is the Python equivalent of an array, but is resizeable and can contain elements of different types:"
      ]
    },
    {
      "metadata": {
        "id": "bGCuX1EAyZYH",
        "colab_type": "code",
        "colab": {
          "base_uri": "https://localhost:8080/",
          "height": 51
        },
        "outputId": "a1c50ca7-0c21-4f6e-ac1b-88367ca66c1d"
      },
      "cell_type": "code",
      "source": [
        "xs = [3, 1, 2]   # Create a list\n",
        "print(xs, xs[2])\n",
        "print(xs[-1])     # Negative indices count from the end of the list; prints \"2\""
      ],
      "execution_count": 21,
      "outputs": [
        {
          "output_type": "stream",
          "text": [
            "[3, 1, 2] 2\n",
            "2\n"
          ],
          "name": "stdout"
        }
      ]
    },
    {
      "metadata": {
        "id": "rTNoHHTvyZYL",
        "colab_type": "code",
        "colab": {
          "base_uri": "https://localhost:8080/",
          "height": 34
        },
        "outputId": "97573801-820c-482b-efe1-2a4d29cf0326"
      },
      "cell_type": "code",
      "source": [
        "xs[2] = 'foo'    # Lists can contain elements of different types\n",
        "print(xs)"
      ],
      "execution_count": 22,
      "outputs": [
        {
          "output_type": "stream",
          "text": [
            "[3, 1, 'foo']\n"
          ],
          "name": "stdout"
        }
      ]
    },
    {
      "metadata": {
        "id": "XL5wGoJGyZYO",
        "colab_type": "code",
        "colab": {
          "base_uri": "https://localhost:8080/",
          "height": 34
        },
        "outputId": "1b5ffa24-2ef1-4fcd-8c18-2662b1e072bc"
      },
      "cell_type": "code",
      "source": [
        "xs.append('bar') # Add a new element to the end of the list\n",
        "print(xs)"
      ],
      "execution_count": 23,
      "outputs": [
        {
          "output_type": "stream",
          "text": [
            "[3, 1, 'foo', 'bar']\n"
          ],
          "name": "stdout"
        }
      ]
    },
    {
      "metadata": {
        "id": "I4zNcbyFIPqy",
        "colab_type": "code",
        "colab": {}
      },
      "cell_type": "code",
      "source": [
        ""
      ],
      "execution_count": 0,
      "outputs": []
    },
    {
      "metadata": {
        "id": "wOrFcKIMyZYS",
        "colab_type": "code",
        "colab": {
          "base_uri": "https://localhost:8080/",
          "height": 34
        },
        "outputId": "3c74f1a4-c6f5-4ce9-f653-b45be4701bfe"
      },
      "cell_type": "code",
      "source": [
        "x = xs.pop()     # Remove and return the last element of the list\n",
        "print(x, xs)"
      ],
      "execution_count": 24,
      "outputs": [
        {
          "output_type": "stream",
          "text": [
            "bar [3, 1, 'foo']\n"
          ],
          "name": "stdout"
        }
      ]
    },
    {
      "metadata": {
        "id": "x2XCqRWjyZYU",
        "colab_type": "text"
      },
      "cell_type": "markdown",
      "source": [
        "As usual, you can find all the gory details about lists in the [documentation](https://docs.python.org/3/tutorial/datastructures.html#more-on-lists)."
      ]
    },
    {
      "metadata": {
        "id": "_MXn7LZYyZYU",
        "colab_type": "text"
      },
      "cell_type": "markdown",
      "source": [
        "####Slicing"
      ]
    },
    {
      "metadata": {
        "id": "HrXgZQ8vyZYU",
        "colab_type": "text"
      },
      "cell_type": "markdown",
      "source": [
        "In addition to accessing list elements one at a time, Python provides concise syntax to access sublists; this is known as slicing:"
      ]
    },
    {
      "metadata": {
        "id": "9GpR3stgyZYW",
        "colab_type": "code",
        "colab": {
          "base_uri": "https://localhost:8080/",
          "height": 136
        },
        "outputId": "afee9980-7c46-4c4a-a87e-ee601e488b8a"
      },
      "cell_type": "code",
      "source": [
        "nums = list(range(5))    # range is a built-in function that creates a list of integers\n",
        "print(nums)        # Prints \"[0, 1, 2, 3, 4]\"\n",
        "print(nums[2:4])   # Get a slice from index 2 to 4 (exclusive); prints \"[2, 3]\"\n",
        "print(nums[2:])    # Get a slice from index 2 to the end; prints \"[2, 3, 4]\"\n",
        "print(nums[:2])    # Get a slice from the start to index 2 (exclusive); prints \"[0, 1]\"\n",
        "print(nums[:])     # Get a slice of the whole list; prints [\"0, 1, 2, 3, 4]\"\n",
        "print(nums[:-1])   # Slice indices can be negative; prints [\"0, 1, 2, 3]\"\n",
        "nums[2:4] = [8, 9] # Assign a new sublist to a slice\n",
        "print(nums)         # Prints \"[0, 1, 8, 9, 4]\""
      ],
      "execution_count": 25,
      "outputs": [
        {
          "output_type": "stream",
          "text": [
            "[0, 1, 2, 3, 4]\n",
            "[2, 3]\n",
            "[2, 3, 4]\n",
            "[0, 1]\n",
            "[0, 1, 2, 3, 4]\n",
            "[0, 1, 2, 3]\n",
            "[0, 1, 8, 9, 4]\n"
          ],
          "name": "stdout"
        }
      ]
    },
    {
      "metadata": {
        "id": "yLEN9Q9vyZYW",
        "colab_type": "text"
      },
      "cell_type": "markdown",
      "source": [
        "####Loops and lists"
      ]
    },
    {
      "metadata": {
        "id": "4t0ErCJ7yZYY",
        "colab_type": "text"
      },
      "cell_type": "markdown",
      "source": [
        "You can loop over the elements of a list like this (similar to a foreach loop):"
      ]
    },
    {
      "metadata": {
        "id": "Eg9bMNtByZYY",
        "colab_type": "code",
        "colab": {
          "base_uri": "https://localhost:8080/",
          "height": 68
        },
        "outputId": "0792dce2-f3ca-4132-bf8a-1bb3006004c3"
      },
      "cell_type": "code",
      "source": [
        "animals = ['cat', 'dog', 'monkey']\n",
        "for animal in animals:\n",
        "    print(animal)"
      ],
      "execution_count": 26,
      "outputs": [
        {
          "output_type": "stream",
          "text": [
            "cat\n",
            "dog\n",
            "monkey\n"
          ],
          "name": "stdout"
        }
      ]
    },
    {
      "metadata": {
        "id": "2Ivu8jcDyZYc",
        "colab_type": "text"
      },
      "cell_type": "markdown",
      "source": [
        "If you want access to the index of each element within the body of a loop, use the built-in `enumerate` function:"
      ]
    },
    {
      "metadata": {
        "id": "8g8COCqOyZYc",
        "colab_type": "code",
        "colab": {
          "base_uri": "https://localhost:8080/",
          "height": 68
        },
        "outputId": "2c7e5682-36ea-4362-f2ed-feb3ebfddb97"
      },
      "cell_type": "code",
      "source": [
        "animals = ['cat', 'dog', 'monkey']\n",
        "for idx, animal in enumerate(animals):\n",
        "    print('#%d: %s' % (idx + 1, animal))"
      ],
      "execution_count": 27,
      "outputs": [
        {
          "output_type": "stream",
          "text": [
            "#1: cat\n",
            "#2: dog\n",
            "#3: monkey\n"
          ],
          "name": "stdout"
        }
      ]
    },
    {
      "metadata": {
        "id": "jTfwTrVpyZYd",
        "colab_type": "text"
      },
      "cell_type": "markdown",
      "source": [
        "####List comprehensions:"
      ]
    },
    {
      "metadata": {
        "id": "HWMlew8KyZYe",
        "colab_type": "text"
      },
      "cell_type": "markdown",
      "source": [
        "When programming, frequently we want to transform one type of data into another. As a simple example, consider the following code that computes square numbers:"
      ]
    },
    {
      "metadata": {
        "id": "soiy_sfuyZYe",
        "colab_type": "code",
        "colab": {
          "base_uri": "https://localhost:8080/",
          "height": 34
        },
        "outputId": "6a6cbf78-6d7e-467d-89aa-1d6c4975f152"
      },
      "cell_type": "code",
      "source": [
        "nums = [0, 1, 2, 3, 4]\n",
        "squares = []\n",
        "for x in nums:\n",
        "    squares.append(x ** 2)\n",
        "print(squares)"
      ],
      "execution_count": 28,
      "outputs": [
        {
          "output_type": "stream",
          "text": [
            "[0, 1, 4, 9, 16]\n"
          ],
          "name": "stdout"
        }
      ]
    },
    {
      "metadata": {
        "id": "TX8-carqyZYh",
        "colab_type": "text"
      },
      "cell_type": "markdown",
      "source": [
        "You can make this code simpler using a list comprehension:"
      ]
    },
    {
      "metadata": {
        "id": "WMr_UY8XyZYi",
        "colab_type": "code",
        "colab": {
          "base_uri": "https://localhost:8080/",
          "height": 34
        },
        "outputId": "543746e8-b1eb-4662-97fc-5a0f26f1d2c9"
      },
      "cell_type": "code",
      "source": [
        "nums = [0, 1, 2, 3, 4]\n",
        "squares = [x ** 2 for x in nums]\n",
        "print(squares)"
      ],
      "execution_count": 29,
      "outputs": [
        {
          "output_type": "stream",
          "text": [
            "[0, 1, 4, 9, 16]\n"
          ],
          "name": "stdout"
        }
      ]
    },
    {
      "metadata": {
        "id": "GiCTuZkTyZYl",
        "colab_type": "text"
      },
      "cell_type": "markdown",
      "source": [
        "List comprehensions can also contain conditions:"
      ]
    },
    {
      "metadata": {
        "id": "SxNrSvqGyZYm",
        "colab_type": "code",
        "colab": {
          "base_uri": "https://localhost:8080/",
          "height": 34
        },
        "outputId": "1d986121-2bcf-4d6b-dc18-1b7c37c74a16"
      },
      "cell_type": "code",
      "source": [
        "nums = [0, 1, 2, 3, 4]\n",
        "even_squares = [x ** 2 for x in nums if x % 2 == 0]  # try to understand this line, but don't spend too much time on it\n",
        "print(even_squares)"
      ],
      "execution_count": 30,
      "outputs": [
        {
          "output_type": "stream",
          "text": [
            "[0, 4, 16]\n"
          ],
          "name": "stdout"
        }
      ]
    },
    {
      "metadata": {
        "id": "fQiHBN4fyZYq",
        "colab_type": "text"
      },
      "cell_type": "markdown",
      "source": [
        "####Dictionaries"
      ]
    },
    {
      "metadata": {
        "id": "8xj9Us3FyZYq",
        "colab_type": "text"
      },
      "cell_type": "markdown",
      "source": [
        "A dictionary stores (key, value) pairs, similar to a `Map` in Java or an object in Javascript. They will not be explained here, but you can find all you need to know about dictionaries [here](https://www.w3schools.com/python/python_dictionaries.asp)."
      ]
    },
    {
      "metadata": {
        "id": "apq5MvvpyZY_",
        "colab_type": "text"
      },
      "cell_type": "markdown",
      "source": [
        "####Sets"
      ]
    },
    {
      "metadata": {
        "id": "65Z5TobeyZZA",
        "colab_type": "text"
      },
      "cell_type": "markdown",
      "source": [
        "A set is an unordered collection of distinct elements. They will not be explained here, but you can find all you need to know about sets [here](https://www.w3schools.com/python/python_sets.asp)."
      ]
    },
    {
      "metadata": {
        "id": "t8bp0rNqyZZT",
        "colab_type": "text"
      },
      "cell_type": "markdown",
      "source": [
        "####Tuples"
      ]
    },
    {
      "metadata": {
        "id": "3pQJz6XKyZZT",
        "colab_type": "text"
      },
      "cell_type": "markdown",
      "source": [
        "A tuple is an (immutable) ordered list of values. A tuple is in many ways similar to a list; one of the most important differences is that tuples can be used as keys in dictionaries and as elements of sets, while lists cannot. Here is a trivial example:"
      ]
    },
    {
      "metadata": {
        "id": "wRpgUy3gyZZV",
        "colab_type": "code",
        "colab": {
          "base_uri": "https://localhost:8080/",
          "height": 68
        },
        "outputId": "68282061-69d7-4ea0-e7ce-809209ae5f19"
      },
      "cell_type": "code",
      "source": [
        "d = {(x, x + 1): x for x in range(10)}  # Create a dictionary with tuple keys\n",
        "t = (5, 6)       # Create a tuple\n",
        "print(type(t))\n",
        "print(d[t])\n",
        "print(d[(1, 2)])"
      ],
      "execution_count": 31,
      "outputs": [
        {
          "output_type": "stream",
          "text": [
            "<class 'tuple'>\n",
            "5\n",
            "1\n"
          ],
          "name": "stdout"
        }
      ]
    },
    {
      "metadata": {
        "id": "qSO-hRPWzMUF",
        "colab_type": "text"
      },
      "cell_type": "markdown",
      "source": [
        "Uncomment and try to run this line of code, to see that tuples cannot be assigned values after creation."
      ]
    },
    {
      "metadata": {
        "id": "PWwhtPf9yZZZ",
        "colab_type": "code",
        "colab": {}
      },
      "cell_type": "code",
      "source": [
        "#t[0] = 1    # tuples are immutable and cannot be assigned"
      ],
      "execution_count": 0,
      "outputs": []
    },
    {
      "metadata": {
        "id": "-7Gz-UzlyZZb",
        "colab_type": "text"
      },
      "cell_type": "markdown",
      "source": [
        "###Functions"
      ]
    },
    {
      "metadata": {
        "id": "kQYrsJb6yZZb",
        "colab_type": "text"
      },
      "cell_type": "markdown",
      "source": [
        "Python functions are defined using the `def` keyword. For example:"
      ]
    },
    {
      "metadata": {
        "id": "7xeg9M3uyZZc",
        "colab_type": "code",
        "colab": {
          "base_uri": "https://localhost:8080/",
          "height": 68
        },
        "outputId": "511f0d63-991d-4a93-b06d-5aab0c0531ec"
      },
      "cell_type": "code",
      "source": [
        "def sign(x):\n",
        "    if x > 0:\n",
        "        return 'positive'\n",
        "    elif x < 0:\n",
        "        return 'negative'\n",
        "    else:\n",
        "        return 'zero'\n",
        "\n",
        "for x in [-1, 0, 1]:\n",
        "    print(sign(x))"
      ],
      "execution_count": 33,
      "outputs": [
        {
          "output_type": "stream",
          "text": [
            "negative\n",
            "zero\n",
            "positive\n"
          ],
          "name": "stdout"
        }
      ]
    },
    {
      "metadata": {
        "id": "XOC8oYnkyZZe",
        "colab_type": "text"
      },
      "cell_type": "markdown",
      "source": [
        "We will often define functions to take optional keyword arguments, like this:"
      ]
    },
    {
      "metadata": {
        "id": "hJcCcLIOyZZe",
        "colab_type": "code",
        "colab": {
          "base_uri": "https://localhost:8080/",
          "height": 51
        },
        "outputId": "d0772b89-a4d2-47a0-d925-77ed00d29552"
      },
      "cell_type": "code",
      "source": [
        "def hello(name, loud=False):\n",
        "    if loud:\n",
        "        print('HELLO, %s' % name.upper())\n",
        "    else:\n",
        "        print('Hello, %s!' % name)\n",
        "\n",
        "hello('Bob')\n",
        "hello('Fred', loud=True)"
      ],
      "execution_count": 34,
      "outputs": [
        {
          "output_type": "stream",
          "text": [
            "Hello, Bob!\n",
            "HELLO, FRED\n"
          ],
          "name": "stdout"
        }
      ]
    },
    {
      "metadata": {
        "id": "4cZNPTsFyZZg",
        "colab_type": "text"
      },
      "cell_type": "markdown",
      "source": [
        "###Classes"
      ]
    },
    {
      "metadata": {
        "id": "eEcU77TsyZZh",
        "colab_type": "text"
      },
      "cell_type": "markdown",
      "source": [
        "The syntax for defining classes in Python is straightforward:"
      ]
    },
    {
      "metadata": {
        "id": "8bwH2-jLyZZh",
        "colab_type": "code",
        "colab": {
          "base_uri": "https://localhost:8080/",
          "height": 51
        },
        "outputId": "8b3e9397-397f-449d-c512-3cb60d0d4785"
      },
      "cell_type": "code",
      "source": [
        "class Greeter:\n",
        "\n",
        "    # Constructor\n",
        "    def __init__(self, name):\n",
        "        self.name = name  # Create an instance variable\n",
        "\n",
        "    # Instance method\n",
        "    def greet(self, loud=False):\n",
        "        if loud:\n",
        "            print('HELLO, %s!' % self.name.upper())\n",
        "        else:\n",
        "            print('Hello, %s' % self.name)\n",
        "\n",
        "g = Greeter('Fred')  # Construct an instance of the Greeter class\n",
        "g.greet()            # Call an instance method; prints \"Hello, Fred\"\n",
        "g.greet(loud=True)   # Call an instance method; prints \"HELLO, FRED!\""
      ],
      "execution_count": 35,
      "outputs": [
        {
          "output_type": "stream",
          "text": [
            "Hello, Fred\n",
            "HELLO, FRED!\n"
          ],
          "name": "stdout"
        }
      ]
    },
    {
      "metadata": {
        "id": "cpLjnqJQyZZk",
        "colab_type": "text"
      },
      "cell_type": "markdown",
      "source": [
        "##Numpy (the matrix library)"
      ]
    },
    {
      "metadata": {
        "id": "5w9SO2P1yZZl",
        "colab_type": "text"
      },
      "cell_type": "markdown",
      "source": [
        "Numpy is the core library for scientific computing in Python. It provides a high-performance multidimensional array object, and tools for working with these arrays. If you are already familiar with MATLAB, you might find this [tutorial](https://docs.scipy.org/doc/numpy/user/numpy-for-matlab-users.html) useful to get started with Numpy."
      ]
    },
    {
      "metadata": {
        "id": "IwTHGkM3yZZm",
        "colab_type": "text"
      },
      "cell_type": "markdown",
      "source": [
        "To use Numpy, we first need to import the `numpy` package (for simplicity's sake, we call it `np` when refering to it later in the code):"
      ]
    },
    {
      "metadata": {
        "id": "nSq-vIwiyZZm",
        "colab_type": "code",
        "colab": {}
      },
      "cell_type": "code",
      "source": [
        "import numpy as np"
      ],
      "execution_count": 0,
      "outputs": []
    },
    {
      "metadata": {
        "id": "gFsokOgyyZZo",
        "colab_type": "text"
      },
      "cell_type": "markdown",
      "source": [
        "###Arrays"
      ]
    },
    {
      "metadata": {
        "id": "QrStm_s_yZZo",
        "colab_type": "text"
      },
      "cell_type": "markdown",
      "source": [
        "A numpy array is a grid of values, all of the same type, and is indexed by a tuple of nonnegative integers. The number of dimensions is the rank of the array; the shape of an array is a tuple of integers giving the size of the array along each dimension."
      ]
    },
    {
      "metadata": {
        "id": "T6NiRagmyZZo",
        "colab_type": "text"
      },
      "cell_type": "markdown",
      "source": [
        "We can initialize numpy arrays from nested Python lists, and access elements using square brackets:"
      ]
    },
    {
      "metadata": {
        "id": "5J-PUSloyZZo",
        "colab_type": "code",
        "colab": {
          "base_uri": "https://localhost:8080/",
          "height": 51
        },
        "outputId": "8c45de8c-a177-4c82-ff28-2729e25e8af4"
      },
      "cell_type": "code",
      "source": [
        "a = np.array([1, 2, 3])  # Create a rank 1 array\n",
        "print(type(a), a.shape, a[0], a[1], a[2])\n",
        "a[0] = 5                 # Change an element of the array\n",
        "print(a)"
      ],
      "execution_count": 37,
      "outputs": [
        {
          "output_type": "stream",
          "text": [
            "<class 'numpy.ndarray'> (3,) 1 2 3\n",
            "[5 2 3]\n"
          ],
          "name": "stdout"
        }
      ]
    },
    {
      "metadata": {
        "id": "A2oQBjXkyZZr",
        "colab_type": "code",
        "colab": {
          "base_uri": "https://localhost:8080/",
          "height": 51
        },
        "outputId": "023a020c-306e-47c8-d822-799739e39820"
      },
      "cell_type": "code",
      "source": [
        "b = np.array([[1,2,3],[4,5,6]])   # Create a rank 2 array\n",
        "print(b)"
      ],
      "execution_count": 38,
      "outputs": [
        {
          "output_type": "stream",
          "text": [
            "[[1 2 3]\n",
            " [4 5 6]]\n"
          ],
          "name": "stdout"
        }
      ]
    },
    {
      "metadata": {
        "id": "g9cS93PbL6X6",
        "colab_type": "text"
      },
      "cell_type": "markdown",
      "source": [
        "Make sure you understand the next two lines of code, for checking the shape of the array (length in all dimensions), and how to select a specific element from the matrix. **Note:** unlike Matlab, Numpy's indexes start at 0 (and not 1), similar to most other programming languages."
      ]
    },
    {
      "metadata": {
        "id": "KvNt-aJjyZZr",
        "colab_type": "code",
        "colab": {
          "base_uri": "https://localhost:8080/",
          "height": 51
        },
        "outputId": "99f792d9-5061-42c5-db5d-ed7e2bf7e6ae"
      },
      "cell_type": "code",
      "source": [
        "print(b.shape)\n",
        "print(b[0, 0], b[0, 1], b[1, 0])"
      ],
      "execution_count": 39,
      "outputs": [
        {
          "output_type": "stream",
          "text": [
            "(2, 3)\n",
            "1 2 4\n"
          ],
          "name": "stdout"
        }
      ]
    },
    {
      "metadata": {
        "id": "bsVsFyEjyZZt",
        "colab_type": "text"
      },
      "cell_type": "markdown",
      "source": [
        "Numpy also provides many functions to create arrays:"
      ]
    },
    {
      "metadata": {
        "id": "eu8jJ7TVyZZu",
        "colab_type": "code",
        "colab": {
          "base_uri": "https://localhost:8080/",
          "height": 51
        },
        "outputId": "9ca8963c-b6fd-4ee2-a410-70e66b91f8c3"
      },
      "cell_type": "code",
      "source": [
        "a = np.zeros((2,2))  # Create an array of all zeros\n",
        "print(a)"
      ],
      "execution_count": 40,
      "outputs": [
        {
          "output_type": "stream",
          "text": [
            "[[0. 0.]\n",
            " [0. 0.]]\n"
          ],
          "name": "stdout"
        }
      ]
    },
    {
      "metadata": {
        "id": "XZ8Kp8iWyZZv",
        "colab_type": "code",
        "colab": {
          "base_uri": "https://localhost:8080/",
          "height": 34
        },
        "outputId": "5a8c86eb-625d-417f-c8fa-bafc714c0d78"
      },
      "cell_type": "code",
      "source": [
        "b = np.ones((1,2))   # Create an array of all ones\n",
        "print(b)"
      ],
      "execution_count": 41,
      "outputs": [
        {
          "output_type": "stream",
          "text": [
            "[[1. 1.]]\n"
          ],
          "name": "stdout"
        }
      ]
    },
    {
      "metadata": {
        "id": "6ZR5bjs9yZZw",
        "colab_type": "code",
        "colab": {
          "base_uri": "https://localhost:8080/",
          "height": 51
        },
        "outputId": "21fc7054-9c0d-499e-e029-37c34162234e"
      },
      "cell_type": "code",
      "source": [
        "c = np.full((2,2), 7) # Create a constant array\n",
        "print(c)"
      ],
      "execution_count": 42,
      "outputs": [
        {
          "output_type": "stream",
          "text": [
            "[[7 7]\n",
            " [7 7]]\n"
          ],
          "name": "stdout"
        }
      ]
    },
    {
      "metadata": {
        "id": "ZdoVZwFZyZZz",
        "colab_type": "code",
        "colab": {
          "base_uri": "https://localhost:8080/",
          "height": 51
        },
        "outputId": "b75d6c90-0da3-4c8b-c5dc-0ce6fdcf08e0"
      },
      "cell_type": "code",
      "source": [
        "d = np.eye(2)        # Create a 2x2 identity matrix\n",
        "print(d)"
      ],
      "execution_count": 43,
      "outputs": [
        {
          "output_type": "stream",
          "text": [
            "[[1. 0.]\n",
            " [0. 1.]]\n"
          ],
          "name": "stdout"
        }
      ]
    },
    {
      "metadata": {
        "id": "dcauZDYEyZZ1",
        "colab_type": "code",
        "colab": {
          "base_uri": "https://localhost:8080/",
          "height": 51
        },
        "outputId": "ec7ae88f-37b1-4d01-db92-6fa197d1a5e4"
      },
      "cell_type": "code",
      "source": [
        "e = np.random.random((2,2)) # Create an array filled with random values\n",
        "print(e)"
      ],
      "execution_count": 44,
      "outputs": [
        {
          "output_type": "stream",
          "text": [
            "[[0.82423803 0.61977652]\n",
            " [0.54958409 0.22352397]]\n"
          ],
          "name": "stdout"
        }
      ]
    },
    {
      "metadata": {
        "id": "9PCrERVryZZ2",
        "colab_type": "text"
      },
      "cell_type": "markdown",
      "source": [
        "###Array indexing"
      ]
    },
    {
      "metadata": {
        "id": "CQRufqvyyZZ2",
        "colab_type": "text"
      },
      "cell_type": "markdown",
      "source": [
        "Numpy offers several ways to index into arrays. This makes working with numpy arrays extremely versatile and powerful, so try to make yourself aware of what is possible.\n"
      ]
    },
    {
      "metadata": {
        "id": "nGjbeVv2yZZ2",
        "colab_type": "text"
      },
      "cell_type": "markdown",
      "source": [
        "**Slicing:** Similar to Python lists (see [above](#scrollTo=_MXn7LZYyZYU)), numpy arrays can be sliced. Since arrays may be multidimensional, you must specify a slice for each dimension of the array:"
      ]
    },
    {
      "metadata": {
        "id": "ENhnM6A8yZZ3",
        "colab_type": "code",
        "colab": {
          "base_uri": "https://localhost:8080/",
          "height": 51
        },
        "outputId": "0436b62b-1218-4630-f257-821c68012185"
      },
      "cell_type": "code",
      "source": [
        "import numpy as np\n",
        "\n",
        "# Create the following rank 2 array with shape (3, 4)\n",
        "# [[ 1  2  3  4]\n",
        "#  [ 5  6  7  8]\n",
        "#  [ 9 10 11 12]]\n",
        "a = np.array([[1,2,3,4], [5,6,7,8], [9,10,11,12]])\n",
        "\n",
        "# Use slicing to pull out the subarray consisting of the first 2 rows\n",
        "# and columns 1 and 2; b is the following array of shape (2, 2):\n",
        "# [[2 3]\n",
        "#  [6 7]]\n",
        "b = a[:2, 1:3]\n",
        "print(b)"
      ],
      "execution_count": 45,
      "outputs": [
        {
          "output_type": "stream",
          "text": [
            "[[2 3]\n",
            " [6 7]]\n"
          ],
          "name": "stdout"
        }
      ]
    },
    {
      "metadata": {
        "id": "ew_vJLBayZZ4",
        "colab_type": "text"
      },
      "cell_type": "markdown",
      "source": [
        "A slice of an array is a view into the same data, so modifying it will modify the original array."
      ]
    },
    {
      "metadata": {
        "id": "C_yBgrFtyZZ4",
        "colab_type": "code",
        "colab": {
          "base_uri": "https://localhost:8080/",
          "height": 51
        },
        "outputId": "4acb482f-bc68-4988-b13a-5e9c4674d674"
      },
      "cell_type": "code",
      "source": [
        "print(a[0, 1])\n",
        "b[0, 0] = 77    # b[0, 0] is the same piece of data as a[0, 1]\n",
        "print(a[0, 1])"
      ],
      "execution_count": 46,
      "outputs": [
        {
          "output_type": "stream",
          "text": [
            "2\n",
            "77\n"
          ],
          "name": "stdout"
        }
      ]
    },
    {
      "metadata": {
        "id": "ECHRyobBl9ie",
        "colab_type": "text"
      },
      "cell_type": "markdown",
      "source": [
        "You can prevent this by making a copy of the data before changing it. (this however takes more memory, especially for very large matrices)"
      ]
    },
    {
      "metadata": {
        "id": "qISTiNGBmEbh",
        "colab_type": "code",
        "colab": {
          "base_uri": "https://localhost:8080/",
          "height": 85
        },
        "outputId": "130d3156-697e-4554-fdef-5e9cb6571def"
      },
      "cell_type": "code",
      "source": [
        "c = np.copy(a)\n",
        "\n",
        "print(\"a[0,0] before change:     \",a[0, 0])\n",
        "print(\"a[0,0] COPY before change:\",c[0, 0])\n",
        "\n",
        "c[0, 0] = 10\n",
        "\n",
        "print(\"a[0,0] after change:      \",a[0, 0])\n",
        "print(\"a[0,0] COPY after change: \",c[0, 0])"
      ],
      "execution_count": 47,
      "outputs": [
        {
          "output_type": "stream",
          "text": [
            "a[0,0] before change:      1\n",
            "a[0,0] COPY before change: 1\n",
            "a[0,0] after change:       1\n",
            "a[0,0] COPY after change:  10\n"
          ],
          "name": "stdout"
        }
      ]
    },
    {
      "metadata": {
        "id": "6n3-rDQeyZaC",
        "colab_type": "text"
      },
      "cell_type": "markdown",
      "source": [
        "**Integer array indexing**: When you index into numpy arrays using slicing, the resulting array view will always be a subarray of the original array. In contrast, integer array indexing allows you to construct arbitrary arrays using the data from another array. Here is an example:"
      ]
    },
    {
      "metadata": {
        "id": "MOSOHWx9yZaC",
        "colab_type": "code",
        "colab": {
          "base_uri": "https://localhost:8080/",
          "height": 51
        },
        "outputId": "0a7ce248-d992-4d48-fc67-542d832e81f8"
      },
      "cell_type": "code",
      "source": [
        "a = np.array([[1,2], \n",
        "              [3, 4], \n",
        "              [5, 6]])\n",
        "\n",
        "# An example of integer array indexing.\n",
        "# The returned array will have shape (3,) and \n",
        "print(a[[0, 1, 2], [0, 1, 0]]) # first select rows, then select columns\n",
        "\n",
        "# The above example of integer array indexing is equivalent to this:\n",
        "print(np.array([a[0, 0], a[1, 1], a[2, 0]])) # select elements individually"
      ],
      "execution_count": 48,
      "outputs": [
        {
          "output_type": "stream",
          "text": [
            "[1 4 5]\n",
            "[1 4 5]\n"
          ],
          "name": "stdout"
        }
      ]
    },
    {
      "metadata": {
        "id": "L9CmtljoyZaI",
        "colab_type": "text"
      },
      "cell_type": "markdown",
      "source": [
        "One useful trick with integer array indexing is selecting or mutating one element from each row of a matrix:"
      ]
    },
    {
      "metadata": {
        "id": "5CRbEk78sKQi",
        "colab_type": "code",
        "colab": {
          "base_uri": "https://localhost:8080/",
          "height": 204
        },
        "outputId": "110d8a1e-083f-4e7d-e489-d3aff40e0c00"
      },
      "cell_type": "code",
      "source": [
        "# Create a new array from which we will select elements\n",
        "a = np.array([[1,2,3], [4,5,6], [7,8,9], [10, 11, 12]])\n",
        "print(a)\n",
        "print()\n",
        "\n",
        "# Create an array of indices\n",
        "b = np.array([0, 2, 0, 1])\n",
        "\n",
        "# Select one element from each row of a using the indices in b. (np.arange(end) - Return evenly spaced values within a given interval.)\n",
        "print(a[np.arange(4), b])  # Prints \"[ 1  6  7 11]\"\n",
        "print()\n",
        "\n",
        "# Mutate one element from each row of a using the indices in b\n",
        "a[np.arange(4), b] += 10\n",
        "print(a)"
      ],
      "execution_count": 49,
      "outputs": [
        {
          "output_type": "stream",
          "text": [
            "[[ 1  2  3]\n",
            " [ 4  5  6]\n",
            " [ 7  8  9]\n",
            " [10 11 12]]\n",
            "\n",
            "[ 1  6  7 11]\n",
            "\n",
            "[[11  2  3]\n",
            " [ 4  5 16]\n",
            " [17  8  9]\n",
            " [10 21 12]]\n"
          ],
          "name": "stdout"
        }
      ]
    },
    {
      "metadata": {
        "id": "Dl2XuRftuB74",
        "colab_type": "text"
      },
      "cell_type": "markdown",
      "source": [
        "**You can also mix integer indexing with slice indexing.** However, doing so will yield an array of lower rank than the original array. Note that this is quite different from the way that MATLAB handles array slicing.\n",
        "\n",
        "Here are two ways of accessing the data in the middle row of the array. Mixing integer indexing with slices yields an array of lower rank, while using only slices yields an array of the same rank as the original array:"
      ]
    },
    {
      "metadata": {
        "id": "W_57RpG7uF5z",
        "colab_type": "code",
        "colab": {
          "base_uri": "https://localhost:8080/",
          "height": 136
        },
        "outputId": "7380bdea-df11-4e3f-ca03-17552de9b619"
      },
      "cell_type": "code",
      "source": [
        "# Create the following rank 2 array with shape (3, 4)\n",
        "a = np.array([[1,2,3,4], \n",
        "              [5,6,7,8], \n",
        "              [9,10,11,12]])\n",
        "print(\"a =\",a)\n",
        "print()\n",
        "\n",
        "row_r1 = a[1, :]    # Rank 1 view of the second row of a  \n",
        "row_r2 = a[1:2, :]  # Rank 2 view of the second row of a\n",
        "row_r3 = a[[1], :]  # Rank 2 view of the second row of a\n",
        "print(row_r1, row_r1.shape)\n",
        "print(row_r2, row_r2.shape)\n",
        "print(row_r3, row_r3.shape)"
      ],
      "execution_count": 50,
      "outputs": [
        {
          "output_type": "stream",
          "text": [
            "a = [[ 1  2  3  4]\n",
            " [ 5  6  7  8]\n",
            " [ 9 10 11 12]]\n",
            "\n",
            "[5 6 7 8] (4,)\n",
            "[[5 6 7 8]] (1, 4)\n",
            "[[5 6 7 8]] (1, 4)\n"
          ],
          "name": "stdout"
        }
      ]
    },
    {
      "metadata": {
        "id": "lA3FOsBCuICr",
        "colab_type": "code",
        "colab": {
          "base_uri": "https://localhost:8080/",
          "height": 102
        },
        "outputId": "79ee8e11-e8f8-49d4-e2df-cd501a3dbada"
      },
      "cell_type": "code",
      "source": [
        "# We can make the same distinction when accessing columns of an array:\n",
        "col_r1 = a[:, 1]\n",
        "col_r2 = a[:, 1:2]\n",
        "print(col_r1, col_r1.shape)\n",
        "print()\n",
        "print(col_r2, col_r2.shape)"
      ],
      "execution_count": 51,
      "outputs": [
        {
          "output_type": "stream",
          "text": [
            "[ 2  6 10] (3,)\n",
            "\n",
            "[[ 2]\n",
            " [ 6]\n",
            " [10]] (3, 1)\n"
          ],
          "name": "stdout"
        }
      ]
    },
    {
      "metadata": {
        "id": "EvK-EYfJyZaO",
        "colab_type": "text"
      },
      "cell_type": "markdown",
      "source": [
        "**Boolean array indexing:** Boolean array indexing lets you pick out arbitrary elements of an array. Frequently this type of indexing is used to select the elements of an array that satisfy some condition. Here is an example:"
      ]
    },
    {
      "metadata": {
        "id": "jdorV9LQyZaO",
        "colab_type": "code",
        "colab": {
          "base_uri": "https://localhost:8080/",
          "height": 68
        },
        "outputId": "84185637-88c9-4e65-d865-eac6f0c00909"
      },
      "cell_type": "code",
      "source": [
        "import numpy as np\n",
        "\n",
        "a = np.array([[1,2], [3, 4], [5, 6]])\n",
        "\n",
        "bool_idx = (a > 2)  # Find the elements of a that are bigger than 2;\n",
        "                    # this returns a numpy array of Booleans of the same\n",
        "                    # shape as a, where each slot of bool_idx tells\n",
        "                    # whether that element of a is > 2.\n",
        "\n",
        "print(bool_idx)"
      ],
      "execution_count": 52,
      "outputs": [
        {
          "output_type": "stream",
          "text": [
            "[[False False]\n",
            " [ True  True]\n",
            " [ True  True]]\n"
          ],
          "name": "stdout"
        }
      ]
    },
    {
      "metadata": {
        "id": "nMb56jolyZaP",
        "colab_type": "code",
        "colab": {
          "base_uri": "https://localhost:8080/",
          "height": 51
        },
        "outputId": "10baa7c9-5982-4f1a-a092-b14b841cf796"
      },
      "cell_type": "code",
      "source": [
        "# We use boolean array indexing to construct a rank 1 array\n",
        "# consisting of the elements of a corresponding to the True values\n",
        "# of bool_idx\n",
        "print(a[bool_idx])\n",
        "\n",
        "# We can do all of the above in a single concise statement:\n",
        "print( a[a > 2])"
      ],
      "execution_count": 53,
      "outputs": [
        {
          "output_type": "stream",
          "text": [
            "[3 4 5 6]\n",
            "[3 4 5 6]\n"
          ],
          "name": "stdout"
        }
      ]
    },
    {
      "metadata": {
        "id": "ABPVl33gyZaR",
        "colab_type": "text"
      },
      "cell_type": "markdown",
      "source": [
        "For brevity we have left out a lot of details about numpy array indexing; if you want to know more you should read the [documentation](https://docs.scipy.org/doc/numpy/reference/arrays.ndarray.html)."
      ]
    },
    {
      "metadata": {
        "id": "bIAltc0vyZaS",
        "colab_type": "text"
      },
      "cell_type": "markdown",
      "source": [
        "###Datatypes"
      ]
    },
    {
      "metadata": {
        "id": "oEvl9YVnyZaS",
        "colab_type": "text"
      },
      "cell_type": "markdown",
      "source": [
        "Every numpy array is a grid of elements of the same type. Numpy provides a large set of numeric datatypes that you can use to construct arrays. Numpy tries to guess a datatype when you create an array, but functions that construct arrays usually also include an optional argument to explicitly specify the datatype. Here is an example:"
      ]
    },
    {
      "metadata": {
        "id": "R1276xWSyZaS",
        "colab_type": "code",
        "colab": {
          "base_uri": "https://localhost:8080/",
          "height": 34
        },
        "outputId": "c95bee0b-f3ed-4087-8d49-5d042fdc3b0c"
      },
      "cell_type": "code",
      "source": [
        "x = np.array([1, 2])  # Let numpy choose the datatype\n",
        "y = np.array([1.0, 2.0])  # Let numpy choose the datatype\n",
        "z = np.array([1, 2], dtype=np.int64)  # Force a particular datatype\n",
        "\n",
        "print(x.dtype, y.dtype, z.dtype)"
      ],
      "execution_count": 54,
      "outputs": [
        {
          "output_type": "stream",
          "text": [
            "int64 float64 int64\n"
          ],
          "name": "stdout"
        }
      ]
    },
    {
      "metadata": {
        "id": "ObYvspgByZaU",
        "colab_type": "text"
      },
      "cell_type": "markdown",
      "source": [
        "You can read all about numpy datatypes in the [documentation](http://docs.scipy.org/doc/numpy/reference/arrays.dtypes.html)."
      ]
    },
    {
      "metadata": {
        "id": "n8eFbTiIyZaV",
        "colab_type": "text"
      },
      "cell_type": "markdown",
      "source": [
        "###Array math"
      ]
    },
    {
      "metadata": {
        "id": "xoOAdjtyyZaV",
        "colab_type": "text"
      },
      "cell_type": "markdown",
      "source": [
        "Basic mathematical functions operate **elementwise** on arrays, and are available both as operator overloads and as functions in the numpy module:"
      ]
    },
    {
      "metadata": {
        "id": "GrAqbxYzyZaV",
        "colab_type": "code",
        "colab": {
          "base_uri": "https://localhost:8080/",
          "height": 85
        },
        "outputId": "0254582a-6619-4205-b812-14ce9ac7a030"
      },
      "cell_type": "code",
      "source": [
        "x = np.array([[1,2],[3,4]], dtype=np.float64)\n",
        "y = np.array([[5,6],[7,8]], dtype=np.float64)\n",
        "\n",
        "# Elementwise sum; both produce the array\n",
        "print(x + y)\n",
        "print(np.add(x, y))"
      ],
      "execution_count": 55,
      "outputs": [
        {
          "output_type": "stream",
          "text": [
            "[[ 6.  8.]\n",
            " [10. 12.]]\n",
            "[[ 6.  8.]\n",
            " [10. 12.]]\n"
          ],
          "name": "stdout"
        }
      ]
    },
    {
      "metadata": {
        "id": "xVbSLbD0yZaW",
        "colab_type": "code",
        "colab": {
          "base_uri": "https://localhost:8080/",
          "height": 85
        },
        "outputId": "4c05573b-84b5-4500-a8c8-5af8c35f2951"
      },
      "cell_type": "code",
      "source": [
        "# Elementwise difference; both produce the array\n",
        "print(x - y)\n",
        "print(np.subtract(x, y))"
      ],
      "execution_count": 56,
      "outputs": [
        {
          "output_type": "stream",
          "text": [
            "[[-4. -4.]\n",
            " [-4. -4.]]\n",
            "[[-4. -4.]\n",
            " [-4. -4.]]\n"
          ],
          "name": "stdout"
        }
      ]
    },
    {
      "metadata": {
        "id": "fpkUgJLGyZaX",
        "colab_type": "code",
        "colab": {
          "base_uri": "https://localhost:8080/",
          "height": 85
        },
        "outputId": "4f773572-ec8c-4232-d7c5-187fa5bdad2a"
      },
      "cell_type": "code",
      "source": [
        "# Elementwise product; both produce the array\n",
        "print(x * y) # NB, this is not matrix multiplication, but is similar to .* in MATLAB\n",
        "print(np.multiply(x, y)) "
      ],
      "execution_count": 57,
      "outputs": [
        {
          "output_type": "stream",
          "text": [
            "[[ 5. 12.]\n",
            " [21. 32.]]\n",
            "[[ 5. 12.]\n",
            " [21. 32.]]\n"
          ],
          "name": "stdout"
        }
      ]
    },
    {
      "metadata": {
        "id": "URbWslviyZaY",
        "colab_type": "code",
        "colab": {
          "base_uri": "https://localhost:8080/",
          "height": 85
        },
        "outputId": "3f978174-a470-4090-8afc-9c703d6729f5"
      },
      "cell_type": "code",
      "source": [
        "# Elementwise division; both produce the array\n",
        "# [[ 0.2         0.33333333]\n",
        "#  [ 0.42857143  0.5       ]]\n",
        "print( x / y)\n",
        "print(np.divide(x, y))"
      ],
      "execution_count": 58,
      "outputs": [
        {
          "output_type": "stream",
          "text": [
            "[[0.2        0.33333333]\n",
            " [0.42857143 0.5       ]]\n",
            "[[0.2        0.33333333]\n",
            " [0.42857143 0.5       ]]\n"
          ],
          "name": "stdout"
        }
      ]
    },
    {
      "metadata": {
        "id": "9MHnyy9RyZaZ",
        "colab_type": "code",
        "colab": {
          "base_uri": "https://localhost:8080/",
          "height": 51
        },
        "outputId": "b0623c7b-c789-402f-e610-47b73b170fb8"
      },
      "cell_type": "code",
      "source": [
        "# Elementwise square root; produces the array\n",
        "# [[ 1.          1.41421356]\n",
        "#  [ 1.73205081  2.        ]]\n",
        "print(np.sqrt(x))"
      ],
      "execution_count": 59,
      "outputs": [
        {
          "output_type": "stream",
          "text": [
            "[[1.         1.41421356]\n",
            " [1.73205081 2.        ]]\n"
          ],
          "name": "stdout"
        }
      ]
    },
    {
      "metadata": {
        "id": "wSDkm0apyZaa",
        "colab_type": "text"
      },
      "cell_type": "markdown",
      "source": [
        "Note that unlike MATLAB, `*` **is elementwise multiplication, not matrix multiplication**. We instead use the `dot` function to compute inner products of vectors, to multiply a vector by a matrix, and to multiply matrices. dot is available both as a function in the numpy module and as an instance method of array objects. It is important that you understand all of these results."
      ]
    },
    {
      "metadata": {
        "id": "IWgmnhPByZaa",
        "colab_type": "code",
        "colab": {
          "base_uri": "https://localhost:8080/",
          "height": 51
        },
        "outputId": "b3ea9ee1-7d58-479b-aeb1-1b1bf4a52259"
      },
      "cell_type": "code",
      "source": [
        "x = np.array([[1,2],[3,4]])\n",
        "y = np.array([[5,6],[7,8]])\n",
        "\n",
        "v = np.array([9,10])\n",
        "w = np.array([11, 12])\n",
        "\n",
        "# Inner product of vectors; both produce 219\n",
        "print(v.dot(w))\n",
        "print(np.dot(v, w))"
      ],
      "execution_count": 60,
      "outputs": [
        {
          "output_type": "stream",
          "text": [
            "219\n",
            "219\n"
          ],
          "name": "stdout"
        }
      ]
    },
    {
      "metadata": {
        "id": "ADELjpyLyZab",
        "colab_type": "code",
        "colab": {
          "base_uri": "https://localhost:8080/",
          "height": 51
        },
        "outputId": "8c09b7c3-a3b4-418c-eee0-8f143e45da13"
      },
      "cell_type": "code",
      "source": [
        "# Matrix / vector product; both produce the rank 1 array [29 67]\n",
        "print(x.dot(v))\n",
        "print(np.dot(x, v))"
      ],
      "execution_count": 61,
      "outputs": [
        {
          "output_type": "stream",
          "text": [
            "[29 67]\n",
            "[29 67]\n"
          ],
          "name": "stdout"
        }
      ]
    },
    {
      "metadata": {
        "id": "bbUHlwQoyZac",
        "colab_type": "code",
        "colab": {
          "base_uri": "https://localhost:8080/",
          "height": 85
        },
        "outputId": "5368479c-6a68-4e42-9f13-66fb17860cec"
      },
      "cell_type": "code",
      "source": [
        "# Matrix / matrix product; both produce the rank 2 array\n",
        "# [[19 22]\n",
        "#  [43 50]]\n",
        "print(x.dot(y))\n",
        "print(np.dot(x, y))"
      ],
      "execution_count": 62,
      "outputs": [
        {
          "output_type": "stream",
          "text": [
            "[[19 22]\n",
            " [43 50]]\n",
            "[[19 22]\n",
            " [43 50]]\n"
          ],
          "name": "stdout"
        }
      ]
    },
    {
      "metadata": {
        "id": "tWzp9gIwyZad",
        "colab_type": "text"
      },
      "cell_type": "markdown",
      "source": [
        "Numpy provides many useful functions for performing computations on arrays; one of the most useful is `sum`:"
      ]
    },
    {
      "metadata": {
        "id": "C2ryYnp6yZad",
        "colab_type": "code",
        "colab": {
          "base_uri": "https://localhost:8080/",
          "height": 68
        },
        "outputId": "1cbefaad-0b6d-4581-d321-54a71c3fb368"
      },
      "cell_type": "code",
      "source": [
        "x = np.array([[1,2],[3,4]])\n",
        "\n",
        "print(np.sum(x))  # Compute sum of all elements; prints \"10\"\n",
        "print(np.sum(x, axis=0))  # Compute sum of each column; prints \"[4 6]\"\n",
        "print(np.sum(x, axis=1))  # Compute sum of each row; prints \"[3 7]\""
      ],
      "execution_count": 63,
      "outputs": [
        {
          "output_type": "stream",
          "text": [
            "10\n",
            "[4 6]\n",
            "[3 7]\n"
          ],
          "name": "stdout"
        }
      ]
    },
    {
      "metadata": {
        "id": "Mh1F3s2pyZaf",
        "colab_type": "text"
      },
      "cell_type": "markdown",
      "source": [
        "You can find the full list of mathematical functions provided by numpy in the [documentation](http://docs.scipy.org/doc/numpy/reference/routines.math.html).\n",
        "\n",
        "Apart from computing mathematical functions using arrays, we frequently need to **reshape** or otherwise manipulate data in arrays. The simplest example of this type of operation is **transposing** a matrix; to transpose a matrix, simply use the T attribute of an array object:"
      ]
    },
    {
      "metadata": {
        "id": "bSy_Me3vyZaf",
        "colab_type": "code",
        "colab": {
          "base_uri": "https://localhost:8080/",
          "height": 85
        },
        "outputId": "3fe6e3a5-e32d-4257-dd8e-3efea58152a3"
      },
      "cell_type": "code",
      "source": [
        "print(x)\n",
        "print(x.T)"
      ],
      "execution_count": 64,
      "outputs": [
        {
          "output_type": "stream",
          "text": [
            "[[1 2]\n",
            " [3 4]]\n",
            "[[1 3]\n",
            " [2 4]]\n"
          ],
          "name": "stdout"
        }
      ]
    },
    {
      "metadata": {
        "id": "WcRbcHpGyYxi",
        "colab_type": "text"
      },
      "cell_type": "markdown",
      "source": [
        "Note however that a vector does not have a transpose, so first make it a 1D matrix and then transpose."
      ]
    },
    {
      "metadata": {
        "id": "nToYPy8yyZai",
        "colab_type": "code",
        "colab": {
          "base_uri": "https://localhost:8080/",
          "height": 136
        },
        "outputId": "71f80dd2-104f-456d-9f0f-3235775f498b"
      },
      "cell_type": "code",
      "source": [
        "v = np.array([1,2,3])\n",
        "print(v)\n",
        "print(v.T)\n",
        "\n",
        "print()\n",
        "# make a 1D matrix\n",
        "v_mat = np.array([v])\n",
        "print(v_mat)\n",
        "print(v_mat.T)"
      ],
      "execution_count": 65,
      "outputs": [
        {
          "output_type": "stream",
          "text": [
            "[1 2 3]\n",
            "[1 2 3]\n",
            "\n",
            "[[1 2 3]]\n",
            "[[1]\n",
            " [2]\n",
            " [3]]\n"
          ],
          "name": "stdout"
        }
      ]
    },
    {
      "metadata": {
        "id": "_ZMKqz96yZay",
        "colab_type": "text"
      },
      "cell_type": "markdown",
      "source": [
        "This brief overview has touched on many of the important things that you need to know about numpy, but is far from complete. Check out the [numpy reference](http://docs.scipy.org/doc/numpy/reference/) to find out much more about numpy."
      ]
    },
    {
      "metadata": {
        "id": "TzaLxdP-yZaz",
        "colab_type": "text"
      },
      "cell_type": "markdown",
      "source": [
        "##Matplotlib"
      ]
    },
    {
      "metadata": {
        "id": "ZZlg48tYyZaz",
        "colab_type": "text"
      },
      "cell_type": "markdown",
      "source": [
        "Matplotlib is a plotting library. In this section give a brief introduction to the `matplotlib.pyplot` module, which provides a plotting system similar to that of MATLAB."
      ]
    },
    {
      "metadata": {
        "id": "-6Hom194yZa0",
        "colab_type": "code",
        "colab": {}
      },
      "cell_type": "code",
      "source": [
        "import matplotlib.pyplot as plt"
      ],
      "execution_count": 0,
      "outputs": []
    },
    {
      "metadata": {
        "id": "JDIA12jYyZa1",
        "colab_type": "text"
      },
      "cell_type": "markdown",
      "source": [
        "By running this special iPython command, we will be displaying plots inline:"
      ]
    },
    {
      "metadata": {
        "id": "6ksZGDMWyZa2",
        "colab_type": "code",
        "colab": {}
      },
      "cell_type": "code",
      "source": [
        "%matplotlib inline"
      ],
      "execution_count": 0,
      "outputs": []
    },
    {
      "metadata": {
        "id": "767nY-VByZa3",
        "colab_type": "text"
      },
      "cell_type": "markdown",
      "source": [
        "###Plotting"
      ]
    },
    {
      "metadata": {
        "id": "3GQ8teVSyZa3",
        "colab_type": "text"
      },
      "cell_type": "markdown",
      "source": [
        "The most important function in `matplotlib` is plot, which allows you to plot 2D data. Here is a simple example (more info on `np.arange` [here](https://docs.scipy.org/doc/numpy/reference/generated/numpy.arange.html), read as \"array range\"):"
      ]
    },
    {
      "metadata": {
        "id": "TpfsoQgeyZa3",
        "colab_type": "code",
        "colab": {
          "base_uri": "https://localhost:8080/",
          "height": 283
        },
        "outputId": "eb91c9c2-092c-4255-a0f3-0f6ad827ed2c"
      },
      "cell_type": "code",
      "source": [
        "# Compute the x and y coordinates for points on a sine curve \n",
        "x = np.arange(0, 3 * np.pi, 0.2)\n",
        "y = 0.75*np.sin(x)\n",
        "\n",
        "# Plot the points using matplotlib\n",
        "plt.plot(x, y)"
      ],
      "execution_count": 68,
      "outputs": [
        {
          "output_type": "execute_result",
          "data": {
            "text/plain": [
              "[<matplotlib.lines.Line2D at 0x7f12db1fe320>]"
            ]
          },
          "metadata": {
            "tags": []
          },
          "execution_count": 68
        },
        {
          "output_type": "display_data",
          "data": {
            "image/png": "[encoded data removed]",
            "text/plain": [
              "<matplotlib.figure.Figure at 0x7f12dbac1f28>"
            ]
          },
          "metadata": {
            "tags": []
          }
        }
      ]
    },
    {
      "metadata": {
        "id": "HBiG4duPBE8B",
        "colab_type": "code",
        "colab": {
          "base_uri": "https://localhost:8080/",
          "height": 283
        },
        "outputId": "33be17c8-08f4-4aff-e8ba-b2d34ff8896f"
      },
      "cell_type": "code",
      "source": [
        "plt.stem(x,y)"
      ],
      "execution_count": 69,
      "outputs": [
        {
          "output_type": "execute_result",
          "data": {
            "text/plain": [
              "<Container object of 3 artists>"
            ]
          },
          "metadata": {
            "tags": []
          },
          "execution_count": 69
        },
        {
          "output_type": "display_data",
          "data": {
            "image/png": "[encoded data removed]",
            "text/plain": [
              "<matplotlib.figure.Figure at 0x7f12db1d6e48>"
            ]
          },
          "metadata": {
            "tags": []
          }
        }
      ]
    },
    {
      "metadata": {
        "id": "N0JVMkpsyZa4",
        "colab_type": "text"
      },
      "cell_type": "markdown",
      "source": [
        "With just a little bit of extra work we can easily plot multiple lines at once, and add a title, legend, and axis labels:"
      ]
    },
    {
      "metadata": {
        "id": "ohTBwtW4yZa4",
        "colab_type": "code",
        "colab": {
          "base_uri": "https://localhost:8080/",
          "height": 311
        },
        "outputId": "9b8bbac7-5138-459f-a0bd-4938d42da6d0"
      },
      "cell_type": "code",
      "source": [
        "y_sin = np.sin(x)\n",
        "y_cos = np.cos(x)\n",
        "\n",
        "# Plot the points using matplotlib\n",
        "plt.plot(x, y_sin)\n",
        "plt.plot(x, y_cos)\n",
        "plt.xlabel('x axis label')\n",
        "plt.ylabel('y axis label')\n",
        "plt.title('Sine and Cosine')\n",
        "plt.legend(['Sine', 'Cosine'])"
      ],
      "execution_count": 70,
      "outputs": [
        {
          "output_type": "execute_result",
          "data": {
            "text/plain": [
              "<matplotlib.legend.Legend at 0x7f12d880e320>"
            ]
          },
          "metadata": {
            "tags": []
          },
          "execution_count": 70
        },
        {
          "output_type": "display_data",
          "data": {
            "image/png": "[encoded data removed]",
            "text/plain": [
              "<matplotlib.figure.Figure at 0x7f12d888ae80>"
            ]
          },
          "metadata": {
            "tags": []
          }
        }
      ]
    },
    {
      "metadata": {
        "id": "D_HEJnCkCS3I",
        "colab_type": "text"
      },
      "cell_type": "markdown",
      "source": [
        "We can rescale the axes in one of 2 ways, either together or separately."
      ]
    },
    {
      "metadata": {
        "id": "-4EFhl0uBkYt",
        "colab_type": "code",
        "colab": {
          "base_uri": "https://localhost:8080/",
          "height": 286
        },
        "outputId": "283453d7-80ae-4bdf-92aa-da1bdd02c116"
      },
      "cell_type": "code",
      "source": [
        "plt.axis([0, 4, -2, 2]) #[x_min, x_max, y_min, y_max]\n",
        "\n",
        "plt.plot(x, y_sin)\n",
        "plt.plot(x, y_cos)"
      ],
      "execution_count": 71,
      "outputs": [
        {
          "output_type": "execute_result",
          "data": {
            "text/plain": [
              "[<matplotlib.lines.Line2D at 0x7f12d88039e8>]"
            ]
          },
          "metadata": {
            "tags": []
          },
          "execution_count": 71
        },
        {
          "output_type": "display_data",
          "data": {
            "image/png": "[encoded data removed]",
            "text/plain": [
              "<matplotlib.figure.Figure at 0x7f12d8838a90>"
            ]
          },
          "metadata": {
            "tags": []
          }
        }
      ]
    },
    {
      "metadata": {
        "id": "6kzNrLa8CYhj",
        "colab_type": "code",
        "colab": {
          "base_uri": "https://localhost:8080/",
          "height": 286
        },
        "outputId": "8171dbed-1e49-493c-e17d-7dcb2830ceb2"
      },
      "cell_type": "code",
      "source": [
        "plt.xlim([0,4])\n",
        "plt.ylim([-2,2])\n",
        "\n",
        "plt.plot(x, y_sin)\n",
        "plt.plot(x, y_cos)"
      ],
      "execution_count": 72,
      "outputs": [
        {
          "output_type": "execute_result",
          "data": {
            "text/plain": [
              "[<matplotlib.lines.Line2D at 0x7f12d8847198>]"
            ]
          },
          "metadata": {
            "tags": []
          },
          "execution_count": 72
        },
        {
          "output_type": "display_data",
          "data": {
            "image/png": "[encoded data removed]",
            "text/plain": [
              "<matplotlib.figure.Figure at 0x7f12d88471d0>"
            ]
          },
          "metadata": {
            "tags": []
          }
        }
      ]
    },
    {
      "metadata": {
        "id": "W2lCj5GeCtGq",
        "colab_type": "text"
      },
      "cell_type": "markdown",
      "source": [
        "###Bar charts"
      ]
    },
    {
      "metadata": {
        "id": "fT3XiYmgCw1b",
        "colab_type": "text"
      },
      "cell_type": "markdown",
      "source": [
        "Plotting the bar chart from a vector."
      ]
    },
    {
      "metadata": {
        "id": "4lPtbutCC3Bs",
        "colab_type": "code",
        "colab": {
          "base_uri": "https://localhost:8080/",
          "height": 282
        },
        "outputId": "ae12ef74-9f8b-4b7b-f533-3d16604930de"
      },
      "cell_type": "code",
      "source": [
        "y = np.array([1, 3, 5, 7, 6, 5, 4, 3, 2, 1])\n",
        "x = np.arange(y.shape[0]) # x length the same as y\n",
        "plt.bar(x,y)"
      ],
      "execution_count": 73,
      "outputs": [
        {
          "output_type": "execute_result",
          "data": {
            "text/plain": [
              "<Container object of 10 artists>"
            ]
          },
          "metadata": {
            "tags": []
          },
          "execution_count": 73
        },
        {
          "output_type": "display_data",
          "data": {
            "image/png": "[encoded data removed]",
            "text/plain": [
              "<matplotlib.figure.Figure at 0x7f12d870bf28>"
            ]
          },
          "metadata": {
            "tags": []
          }
        }
      ]
    },
    {
      "metadata": {
        "id": "q9DXuL6xFSjX",
        "colab_type": "text"
      },
      "cell_type": "markdown",
      "source": [
        "###Histograms"
      ]
    },
    {
      "metadata": {
        "id": "hprgUbLBFUhq",
        "colab_type": "text"
      },
      "cell_type": "markdown",
      "source": [
        "A histogram divides the values in a vector into evenly-spaced bins (default 10) and counts the number of occurrences in each bin. We also simplify the random function usage with a special import."
      ]
    },
    {
      "metadata": {
        "id": "gek0ztc0FR17",
        "colab_type": "code",
        "colab": {
          "base_uri": "https://localhost:8080/",
          "height": 265
        },
        "outputId": "2eac6c76-eb10-41bc-e579-b30a18b391f0"
      },
      "cell_type": "code",
      "source": [
        "from numpy.random import random as rand\n",
        "\n",
        "x = rand(1000) + rand(1000)\n",
        "plt.hist(x);"
      ],
      "execution_count": 74,
      "outputs": [
        {
          "output_type": "display_data",
          "data": {
            "image/png": "[encoded data removed]",
            "text/plain": [
              "<matplotlib.figure.Figure at 0x7f12d889df98>"
            ]
          },
          "metadata": {
            "tags": []
          }
        }
      ]
    },
    {
      "metadata": {
        "id": "GnSpIiRuJ13U",
        "colab_type": "text"
      },
      "cell_type": "markdown",
      "source": [
        "The number of bins can be specified"
      ]
    },
    {
      "metadata": {
        "id": "rV_wVKvRJ7C4",
        "colab_type": "code",
        "colab": {
          "base_uri": "https://localhost:8080/",
          "height": 265
        },
        "outputId": "e4e2e88b-50af-4947-f04f-b45a9a746135"
      },
      "cell_type": "code",
      "source": [
        "plt.hist(x,20);"
      ],
      "execution_count": 75,
      "outputs": [
        {
          "output_type": "display_data",
          "data": {
            "image/png": "[encoded data removed]",
            "text/plain": [
              "<matplotlib.figure.Figure at 0x7f12d86858d0>"
            ]
          },
          "metadata": {
            "tags": []
          }
        }
      ]
    },
    {
      "metadata": {
        "id": "F3AJJBnAKFPM",
        "colab_type": "text"
      },
      "cell_type": "markdown",
      "source": [
        "The function `hist` can also return vectors with the bin edge locations and counts, which can subsequently be plotted using `bar`. There are however other parameters that are returned which we don't find usefull, and we would also like to ensure `hist` doesn't plot anything. So we will get the same information from the Numpy [function](https://docs.scipy.org/doc/numpy/reference/generated/numpy.histogram.html) `np.histogram()`. \n",
        "\n",
        "We just align the bars with the left edge and make the width, that of the distance between 2 edges."
      ]
    },
    {
      "metadata": {
        "id": "50Mq15E-KIiP",
        "colab_type": "code",
        "colab": {
          "base_uri": "https://localhost:8080/",
          "height": 265
        },
        "outputId": "137c45ae-db3f-4360-bab4-fe62f0886032"
      },
      "cell_type": "code",
      "source": [
        "counts,bin_edges = np.histogram(x,20)\n",
        "plt.bar(bin_edges[:-1], counts, width=(bin_edges[1]-bin_edges[0]), align=\"edge\");"
      ],
      "execution_count": 76,
      "outputs": [
        {
          "output_type": "display_data",
          "data": {
            "image/png": "[encoded data removed]",
            "text/plain": [
              "<matplotlib.figure.Figure at 0x7f12d8685898>"
            ]
          },
          "metadata": {
            "tags": []
          }
        }
      ]
    },
    {
      "metadata": {
        "id": "is38I8pyyZa7",
        "colab_type": "text"
      },
      "cell_type": "markdown",
      "source": [
        "###Subplots "
      ]
    },
    {
      "metadata": {
        "id": "tDFmQTlwyZa7",
        "colab_type": "text"
      },
      "cell_type": "markdown",
      "source": [
        "You can plot different things in the same figure using the subplot function. Here is an example:"
      ]
    },
    {
      "metadata": {
        "id": "WmCEZ7kcyZa7",
        "colab_type": "code",
        "colab": {
          "base_uri": "https://localhost:8080/",
          "height": 280
        },
        "outputId": "9ce6c1bc-9e70-411f-be3e-514496004037"
      },
      "cell_type": "code",
      "source": [
        "# Compute the x and y coordinates for points on sine and cosine curves\n",
        "x = np.arange(0, 3 * np.pi, 0.1)\n",
        "y_sin = np.sin(x)\n",
        "y_cos = np.cos(x)\n",
        "\n",
        "# Set up a subplot grid that has height 2 and width 1,\n",
        "# and set the first such subplot as active.\n",
        "plt.subplot(2, 1, 1)\n",
        "\n",
        "# Make the first plot\n",
        "plt.plot(x, y_sin)\n",
        "plt.title('Sine')\n",
        "\n",
        "# Set the second subplot as active, and make the second plot.\n",
        "plt.subplot(2, 1, 2)\n",
        "plt.plot(x, y_cos)\n",
        "plt.title('Cosine')\n",
        "\n",
        "# Show the figure.\n",
        "plt.show()"
      ],
      "execution_count": 77,
      "outputs": [
        {
          "output_type": "display_data",
          "data": {
            "image/png": "[encoded data removed]",
            "text/plain": [
              "<matplotlib.figure.Figure at 0x7f12d863b390>"
            ]
          },
          "metadata": {
            "tags": []
          }
        }
      ]
    },
    {
      "metadata": {
        "id": "GPXoZufmyZa8",
        "colab_type": "text"
      },
      "cell_type": "markdown",
      "source": [
        "You can read much more about the `subplot` function in the [documentation](http://matplotlib.org/api/pyplot_api.html#matplotlib.pyplot.subplot).\n",
        "\n",
        "Matplotlib is a very powerful library, and it is worth looking deeper at the documentation [here](https://matplotlib.org/2.2.3/api/pyplot_summary.html). For some good examples of possible plots that can be made with Matplotlib, look at [here](https://www.safaribooksonline.com/library/view/python-data-science/9781491912126/ch04.html)."
      ]
    }
  ]
}