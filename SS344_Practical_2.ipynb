{
  "nbformat": 4,
  "nbformat_minor": 0,
  "metadata": {
    "colab": {
      "name": "SS344 Practical 2",
      "version": "0.3.2",
      "provenance": [],
      "collapsed_sections": []
    },
    "kernelspec": {
      "name": "python3",
      "display_name": "Python 3"
    }
  },
  "cells": [
    {
      "metadata": {
        "id": "8GPNu7S9TQv5",
        "colab_type": "text"
      },
      "cell_type": "markdown",
      "source": [
        "#Practical 2"
      ]
    },
    {
      "metadata": {
        "id": "l1EoLIH5VY3i",
        "colab_type": "text"
      },
      "cell_type": "markdown",
      "source": [
        "**Submission details:** The report for this practical must be in PDF format. The calculations should preferably be **hand written** and scanned (digital means, such as writing on a tablet or Word or LaTeX is also accepted). The code and figures can either be included with the calculations in the report, or this notebook can be printed as a PDF, and attached. The figures can be exported by *right-clicking* on the image and choosing *Save image as...*. It can then be processed further or printed."
      ]
    },
    {
      "metadata": {
        "id": "3bES_6I_T6ub",
        "colab_type": "text"
      },
      "cell_type": "markdown",
      "source": [
        "##Before you begin run this code"
      ]
    },
    {
      "metadata": {
        "id": "cQGf81OHT-oH",
        "colab_type": "code",
        "colab": {}
      },
      "cell_type": "code",
      "source": [
        "import numpy as np\n",
        "from numpy.random import random as rand\n",
        "from numpy.random import normal as randn\n",
        "import matplotlib.pyplot as plt\n",
        "from math import atan, cos, sin\n",
        "%matplotlib inline"
      ],
      "execution_count": 0,
      "outputs": []
    },
    {
      "metadata": {
        "id": "ZuYgTyFovnYr",
        "colab_type": "code",
        "colab": {}
      },
      "cell_type": "code",
      "source": [
        "# Remember you can always use the help function to find out more about functions.\n",
        "help(np.cov)"
      ],
      "execution_count": 0,
      "outputs": []
    },
    {
      "metadata": {
        "id": "zE5Ns1-sT3TY",
        "colab_type": "text"
      },
      "cell_type": "markdown",
      "source": [
        "##Question 1"
      ]
    },
    {
      "metadata": {
        "id": "stl8LuO1TU9C",
        "colab_type": "text"
      },
      "cell_type": "markdown",
      "source": [
        "\n",
        "A production line manufactures bolts. The intended length of each bolt is 100mm, but it is known that the actual lengths of the bolts are Gaussian distributed with a mean length of 100mm and a standard deviation of 3mm."
      ]
    },
    {
      "metadata": {
        "id": "GRMBBVAzUPBh",
        "colab_type": "text"
      },
      "cell_type": "markdown",
      "source": [
        "###a) \n",
        "Using a table for the standard normal distribution, **compute** the probability that the length of a randomly selected bolt differs by more than 5% from its intended length."
      ]
    },
    {
      "metadata": {
        "id": "HW2iH9WzWirM",
        "colab_type": "text"
      },
      "cell_type": "markdown",
      "source": [
        "###b)\n",
        "You are the owner of a business which uses these bolts to manufacture shelving. The bolts must be within 5% of the specified 100mm for them to be suitable for your product. You buy the bolts in batches of 10 000. How many bolts do you expect to have to discard from each batch?"
      ]
    },
    {
      "metadata": {
        "id": "yuQJSvSLWpBd",
        "colab_type": "text"
      },
      "cell_type": "markdown",
      "source": [
        "###c)\n",
        "Now **simulate** this scenario using Python. Generate 10 000 values that are Gaussian distributed with mean 100mm and standard deviation 3mm (use `randn` as imported above - [doc](https://docs.scipy.org/doc/numpy-1.15.0/reference/generated/numpy.random.normal.html)). Plot the histogram of these values, indicating the mean and standard deviation on the plot. Use the `histPDF` function you wrote in practical 1 to achieve this. If your own function is not operational use:\n",
        "\n",
        "`plt.hist(x, num_bins, density=True, edgecolor=\"black\");`"
      ]
    },
    {
      "metadata": {
        "id": "pibO5Y9KXDp4",
        "colab_type": "code",
        "colab": {}
      },
      "cell_type": "code",
      "source": [
        "#Copy and paste your function from Prac 1 below or use the provided function"
      ],
      "execution_count": 0,
      "outputs": []
    },
    {
      "metadata": {
        "id": "PbAZy0ZRfrgz",
        "colab_type": "text"
      },
      "cell_type": "markdown",
      "source": [
        "###d)\n",
        "From the 10 000 values you have generated, count how many fall outside the 5% tolerance interval. Does this number agree with your answer in (b)? Re-run your program to recalculate this number with a different set of 10 000 values. Do you get the same answer? Discuss briefly."
      ]
    },
    {
      "metadata": {
        "id": "Hj1Jcrxrf-dm",
        "colab_type": "code",
        "colab": {}
      },
      "cell_type": "code",
      "source": [
        "#Code here to count how many fall outside tolerance"
      ],
      "execution_count": 0,
      "outputs": []
    },
    {
      "metadata": {
        "id": "He-vduyTj6hW",
        "colab_type": "text"
      },
      "cell_type": "markdown",
      "source": [
        "##Question 2"
      ]
    },
    {
      "metadata": {
        "id": "oyiC893Dj8u4",
        "colab_type": "text"
      },
      "cell_type": "markdown",
      "source": [
        "Run the following code cell to download the dataset used for this question. This contains two-dimensional Gaussian-distributed data. This data is loaded into a new Numpy array called `X1`."
      ]
    },
    {
      "metadata": {
        "id": "ic2T-YdXoO7G",
        "colab_type": "code",
        "colab": {
          "base_uri": "https://localhost:8080/",
          "height": 34
        },
        "outputId": "461912fd-13b0-4158-e713-70d416eeb911"
      },
      "cell_type": "code",
      "source": [
        "import urllib.request as URL\n",
        "import numpy as np\n",
        "\n",
        "url = \"https://drive.google.com/uc?export=download&id=1NaPTWb68LLrJBeUOLJXGnh_mKsCVzFlw\"   #npy file\n",
        "\n",
        "URL.urlretrieve(url = url, filename = \"dat.npy\");\n",
        "X1 = np.load(\"dat.npy\");\n",
        "print(\"X1.shape =\", X1.shape)"
      ],
      "execution_count": 5,
      "outputs": [
        {
          "output_type": "stream",
          "text": [
            "X1.shape = (2, 10000)\n"
          ],
          "name": "stdout"
        }
      ]
    },
    {
      "metadata": {
        "id": "azZx5XFTozPd",
        "colab_type": "text"
      },
      "cell_type": "markdown",
      "source": [
        "###a)\n",
        "Visualize `X1` as a cloud of points. Indicate the mean and standard deviation along both dimensions.\n",
        "\n",
        "*Hint*: the function `plt.scatter(x,y,s=2)` will plot a small dot at coordinates (x,y)."
      ]
    },
    {
      "metadata": {
        "id": "c4_2xR5GpIpr",
        "colab_type": "code",
        "colab": {}
      },
      "cell_type": "code",
      "source": [
        "plt.figure(figsize=(8, 8), dpi= 80) # make plot bigger (much better clarity)\n",
        "plt.xlim(-5,10)\n",
        "plt.ylim(-5,10)\n",
        "\n",
        "#Your code here"
      ],
      "execution_count": 0,
      "outputs": []
    },
    {
      "metadata": {
        "id": "OaogNpg6vDHK",
        "colab_type": "text"
      },
      "cell_type": "markdown",
      "source": [
        "###b)\n",
        "Estimate the covariance matrix and the correlation coefficient ($\\rho$) of the bivariate data. Interpret the meaning of these values. \n",
        "\n",
        "*Hint*: make use of the Numpy function `np.cov()` ([doc](https://docs.scipy.org/doc/numpy-1.15.1/reference/generated/numpy.cov.html))."
      ]
    },
    {
      "metadata": {
        "id": "DMBoUe-KvucX",
        "colab_type": "code",
        "colab": {}
      },
      "cell_type": "code",
      "source": [
        "# Your code here"
      ],
      "execution_count": 0,
      "outputs": []
    },
    {
      "metadata": {
        "id": "4HMkGjsnxeup",
        "colab_type": "text"
      },
      "cell_type": "markdown",
      "source": [
        "###c)\n",
        "Determine a linear transform that will de-correlate the data. Apply this transform to `X1` to obtain new set of data points `X2`. Plot this data as a cloud of data points to verify the correctness of your transform, again indicating means and standard deviations along both dimensions."
      ]
    },
    {
      "metadata": {
        "id": "IfukTOJpxp3J",
        "colab_type": "code",
        "colab": {}
      },
      "cell_type": "code",
      "source": [
        "plt.figure(figsize=(8, 8), dpi= 80) # make plot bigger (much better clarity)\n",
        "plt.xlim(-5,10)\n",
        "plt.ylim(-5,10)\n",
        "\n",
        "#Your code here"
      ],
      "execution_count": 0,
      "outputs": []
    },
    {
      "metadata": {
        "id": "5gsVJhc31Z5D",
        "colab_type": "text"
      },
      "cell_type": "markdown",
      "source": [
        "###d)\n",
        "Estimate the covariance matrix as well as the correlation coefficient ($\\rho$) of X2. Interpret these values in terms of the plots you produced in both (c) and (a)."
      ]
    },
    {
      "metadata": {
        "id": "z0h2AGXu1dNv",
        "colab_type": "code",
        "colab": {}
      },
      "cell_type": "code",
      "source": [
        "# Your code here"
      ],
      "execution_count": 0,
      "outputs": []
    }
  ]
}