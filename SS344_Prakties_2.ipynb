{
  "nbformat": 4,
  "nbformat_minor": 0,
  "metadata": {
    "colab": {
      "name": "SS344 Prakties 2",
      "version": "0.3.2",
      "provenance": [],
      "collapsed_sections": []
    },
    "kernelspec": {
      "name": "python3",
      "display_name": "Python 3"
    }
  },
  "cells": [
    {
      "metadata": {
        "id": "8GPNu7S9TQv5",
        "colab_type": "text"
      },
      "cell_type": "markdown",
      "source": [
        "#Prakties 2"
      ]
    },
    {
      "metadata": {
        "id": "l1EoLIH5VY3i",
        "colab_type": "text"
      },
      "cell_type": "markdown",
      "source": [
        "**Inhandigings inligting:** Die verslag vir hierdie prakties moet in PDF formaat ingehandig word. Die berekening moet verkieslik **handgeskrewe** en geskandeer word (digitale weergawes, soos tablet skrywe of Word of LaTeX word ook aanvaar). Die kode en figure kan ingehandig word of saam met die berekeninge se verslag, of hierdie dokument kan as PDF geprint word. Die figure kan gestoor word deur *regs te click* op die figuur en dan *Save image as...* te kies."
      ]
    },
    {
      "metadata": {
        "id": "3bES_6I_T6ub",
        "colab_type": "text"
      },
      "cell_type": "markdown",
      "source": [
        "##Voor jy begin loop eers hierdie kode"
      ]
    },
    {
      "metadata": {
        "id": "cQGf81OHT-oH",
        "colab_type": "code",
        "colab": {}
      },
      "cell_type": "code",
      "source": [
        "import numpy as np\n",
        "from numpy.random import random as rand\n",
        "from numpy.random import normal as randn\n",
        "import matplotlib.pyplot as plt\n",
        "from math import atan, cos, sin\n",
        "%matplotlib inline"
      ],
      "execution_count": 0,
      "outputs": []
    },
    {
      "metadata": {
        "id": "ZuYgTyFovnYr",
        "colab_type": "code",
        "colab": {}
      },
      "cell_type": "code",
      "source": [
        "# Onthou jy kan altyd die help funksie gebruik ook meer oor ander fuksies uit te vind\n",
        "help(np.cov)"
      ],
      "execution_count": 0,
      "outputs": []
    },
    {
      "metadata": {
        "id": "zE5Ns1-sT3TY",
        "colab_type": "text"
      },
      "cell_type": "markdown",
      "source": [
        "##Vraag 1"
      ]
    },
    {
      "metadata": {
        "id": "stl8LuO1TU9C",
        "colab_type": "text"
      },
      "cell_type": "markdown",
      "source": [
        "'n Produksielyn vervaardig boute. Die bedoeling is om boute met 'n lengte van 100mm te vervaardig. Dit is egter bekend dat die werklike lengtes van die boute Gaussies versprei is, met 'n gemiddeld van 100mm en 'n standaardafwyking van 3mm."
      ]
    },
    {
      "metadata": {
        "id": "GRMBBVAzUPBh",
        "colab_type": "text"
      },
      "cell_type": "markdown",
      "source": [
        "###a) \n",
        "Verwys na 'n tabel vir die standaard normaalverspreiding en **bereken** die waarskynlikheid dat 'n willekeurig gekose bout met meer as 5% van die bedoelde waarde afwyk."
      ]
    },
    {
      "metadata": {
        "id": "HW2iH9WzWirM",
        "colab_type": "text"
      },
      "cell_type": "markdown",
      "source": [
        "###b)\n",
        "Jy is die eienaar van 'n besigheid wat hierdie boute gebruik om rakke te vervaardig. Die boute moet binne 5% van die gespesifiseerde 100mm wees om bruikbaar te wees vir jou produk. Jy koop die boute in bokse van 10 000. Hoeveel boute verwag jy om uit elke boks te moet verwerp?"
      ]
    },
    {
      "metadata": {
        "id": "yuQJSvSLWpBd",
        "colab_type": "text"
      },
      "cell_type": "markdown",
      "source": [
        "###c)\n",
        "**Simuleer** nou hierdie situasie met Python. Genereer 10 000 waardes wat Gaussies versprei is met gemiddeld 100mm en standaardafwyking 3mm (gebruik `randn` wat hierbo ge-import is - [doc](https://docs.scipy.org/doc/numpy-1.15.0/reference/generated/numpy.random.normal.html)). Plot die histogram van hierdie waardes, en dui die gemiddeld en die standaardafwyking op die grafiek aan. Gerbruik die `histPDF` funksie wat jy in prakties 1 geskryf het om dit te bewerkstellig. As jou funksie nie werk nie, gebruik:\n",
        "\n",
        "`plt.hist(x, num_bins, density=True, edgecolor=\"black\");`"
      ]
    },
    {
      "metadata": {
        "id": "pibO5Y9KXDp4",
        "colab_type": "code",
        "colab": {}
      },
      "cell_type": "code",
      "source": [
        "#Copy en paste your funksie van Prak 1 hieronder of gebruik die gegewe funksie\n"
      ],
      "execution_count": 0,
      "outputs": []
    },
    {
      "metadata": {
        "id": "PbAZy0ZRfrgz",
        "colab_type": "text"
      },
      "cell_type": "markdown",
      "source": [
        "###d)\n",
        "Tel hoeveel van die 10 000 waardes wat jy gegenereer het buite die 5% toleransieïnterval lê. Stem hierdie getal ooreen met jou antwoord in (b)? Loop jou program weer om hierdie getal te herbereken vir 'n nuwe stel van 10 000 waardes. Kry jy dieselfde antwoord? Bespreek kortliks."
      ]
    },
    {
      "metadata": {
        "id": "Hj1Jcrxrf-dm",
        "colab_type": "code",
        "colab": {}
      },
      "cell_type": "code",
      "source": [
        "#Kode hier om te tel hoeveel val buite die toleransie"
      ],
      "execution_count": 0,
      "outputs": []
    },
    {
      "metadata": {
        "id": "He-vduyTj6hW",
        "colab_type": "text"
      },
      "cell_type": "markdown",
      "source": [
        "##Vraag 2"
      ]
    },
    {
      "metadata": {
        "id": "oyiC893Dj8u4",
        "colab_type": "text"
      },
      "cell_type": "markdown",
      "source": [
        "Loop die onderstaande code cell om die datastel wat vir hierdie vraag gebruik moet word af te laai. Hierdie lêer bevat twee-dimensionele Gaussies-verspreide data. Die data word as a Numpy array gelaai en word `X1` genoem."
      ]
    },
    {
      "metadata": {
        "id": "ic2T-YdXoO7G",
        "colab_type": "code",
        "colab": {
          "base_uri": "https://localhost:8080/",
          "height": 34
        },
        "outputId": "5567a58f-ec19-4a7a-d930-c7a20cf44b31"
      },
      "cell_type": "code",
      "source": [
        "import urllib.request as URL\n",
        "import numpy as np\n",
        "\n",
        "url = \"https://drive.google.com/uc?export=download&id=1NaPTWb68LLrJBeUOLJXGnh_mKsCVzFlw\"   #npy file\n",
        "\n",
        "URL.urlretrieve(url = url, filename = \"dat.npy\");\n",
        "X1 = np.load(\"dat.npy\");\n",
        "print(\"X1.shape =\", X1.shape)"
      ],
      "execution_count": 4,
      "outputs": [
        {
          "output_type": "stream",
          "text": [
            "X1.shape = (2, 10000)\n"
          ],
          "name": "stdout"
        }
      ]
    },
    {
      "metadata": {
        "id": "azZx5XFTozPd",
        "colab_type": "text"
      },
      "cell_type": "markdown",
      "source": [
        "###a)\n",
        "Visualiseer `X1` as 'n wolk van punte. Dui die gemiddeld en standaardafwyking langs elke dimensie aan.\n",
        "\n",
        "*Wenk*: Die funksie `plt.scatter(x,y,s=2)` sal 'n klein kolletjie by die koördienate (x,y) plot."
      ]
    },
    {
      "metadata": {
        "id": "c4_2xR5GpIpr",
        "colab_type": "code",
        "colab": {}
      },
      "cell_type": "code",
      "source": [
        "plt.figure(figsize=(8, 8), dpi= 80) # Maak die plot groter (vir duidelikheid)\n",
        "plt.xlim(-5,10)\n",
        "plt.ylim(-5,10)\n",
        "\n",
        "#Jou kode hier"
      ],
      "execution_count": 0,
      "outputs": []
    },
    {
      "metadata": {
        "id": "OaogNpg6vDHK",
        "colab_type": "text"
      },
      "cell_type": "markdown",
      "source": [
        "###b)\n",
        "Beraam die kovariansiematriks ($\\rho$) en die korrelasiekoëffisiënt ($\\rho$) van die twee dimensionele data. Interpreteer die betekenis van hierdie waards.\n",
        "\n",
        "*Wenk*: Gebruik die Numpy funksie `np.cov()` ([doc](https://docs.scipy.org/doc/numpy-1.15.1/reference/generated/numpy.cov.html))."
      ]
    },
    {
      "metadata": {
        "id": "DMBoUe-KvucX",
        "colab_type": "code",
        "colab": {}
      },
      "cell_type": "code",
      "source": [
        "# Jou kode hier"
      ],
      "execution_count": 0,
      "outputs": []
    },
    {
      "metadata": {
        "id": "4HMkGjsnxeup",
        "colab_type": "text"
      },
      "cell_type": "markdown",
      "source": [
        "###c)\n",
        "Bepaal 'n lineere transform wat die data sal ontkorreleer. Wend hierdie transform aan op `X1` om 'n nuwe stel data punte `X2` be bekom. Plot hierdie data as 'n wolk van punte, en dui weer die gemiddeld en standaardafwyking langs elke dimensie aan."
      ]
    },
    {
      "metadata": {
        "id": "IfukTOJpxp3J",
        "colab_type": "code",
        "colab": {}
      },
      "cell_type": "code",
      "source": [
        "plt.figure(figsize=(8, 8), dpi= 80) # Maak die plot groter (vir duidelikheid)\n",
        "plt.xlim(-5,10)\n",
        "plt.ylim(-5,10)\n",
        "\n",
        "# Jou kode hier"
      ],
      "execution_count": 0,
      "outputs": []
    },
    {
      "metadata": {
        "id": "5gsVJhc31Z5D",
        "colab_type": "text"
      },
      "cell_type": "markdown",
      "source": [
        "###d)\n",
        "Beraam die kovariansiematriks en die korrelasiekoëffisiënt ($\\rho$) van `X2`. Interpreteer die betekenis van hierdie waardes in terme van die plotte in beide (c) en (a)."
      ]
    },
    {
      "metadata": {
        "id": "z0h2AGXu1dNv",
        "colab_type": "code",
        "colab": {}
      },
      "cell_type": "code",
      "source": [
        "# Jou Kode hier\n"
      ],
      "execution_count": 0,
      "outputs": []
    }
  ]
}